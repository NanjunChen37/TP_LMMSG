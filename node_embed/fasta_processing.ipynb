{
 "cells": [
  {
   "cell_type": "code",
   "execution_count": 3,
   "metadata": {},
   "outputs": [
    {
     "name": "stderr",
     "output_type": "stream",
     "text": [
      "/home/cnj/anaconda3/envs/amp_test/lib/python3.8/site-packages/tqdm/auto.py:21: TqdmWarning: IProgress not found. Please update jupyter and ipywidgets. See https://ipywidgets.readthedocs.io/en/stable/user_install.html\n",
      "  from .autonotebook import tqdm as notebook_tqdm\n"
     ]
    },
    {
     "name": "stdout",
     "output_type": "stream",
     "text": [
      "torch.Size([7, 68])\n",
      "torch.Size([8, 68])\n"
     ]
    }
   ],
   "source": [
    "import torch\n",
    "import torch.nn as nn\n",
    "\n",
    "# 定义 MLP 模型\n",
    "class MLP(nn.Module):\n",
    "    def __init__(self, input_dim, hidden_dim, output_dim):\n",
    "        super(MLP, self).__init__()\n",
    "        self.fc1 = nn.Linear(input_dim, hidden_dim)\n",
    "        self.fc2 = nn.Linear(hidden_dim, output_dim)\n",
    "\n",
    "    def forward(self, x):\n",
    "        x = torch.relu(self.fc1(x))\n",
    "        x = self.fc2(x)\n",
    "        return x\n",
    "\n",
    "# 定义卷积网络模型\n",
    "class ConvNet(nn.Module):\n",
    "    def __init__(self, input_dim, output_dim):\n",
    "        super(ConvNet, self).__init__()\n",
    "        self.conv1d = nn.Conv1d(input_dim, output_dim, kernel_size=1)\n",
    "\n",
    "    def forward(self, x):\n",
    "        x = self.conv1d(x)\n",
    "        return x\n",
    "\n",
    "# 输入数据维度\n",
    "input_dim = 1024\n",
    "# 输出数据维度\n",
    "output_dim = 68\n",
    "\n",
    "# 创建卷积网络模型\n",
    "conv_net = ConvNet(input_dim, output_dim)\n",
    "\n",
    "# 创建输入张量\n",
    "input_tensor1 = torch.randn(7, 1024).unsqueeze(2)  # 添加一维作为通道维度\n",
    "input_tensor2 = torch.randn(8, 1024).unsqueeze(2)\n",
    "\n",
    "# 前向传播计算\n",
    "output_tensor1 = conv_net(input_tensor1)\n",
    "output_tensor2 = conv_net(input_tensor2)\n",
    "\n",
    "# 调整输出张量的维度\n",
    "output_tensor1 = output_tensor1.squeeze(2)\n",
    "output_tensor2 = output_tensor2.squeeze(2)\n",
    "\n",
    "# 打印输出张量的维度\n",
    "print(output_tensor1.size())  # 输出: torch.Size([7, 68])\n",
    "print(output_tensor2.size())  # 输出: torch.Size([8, 68])"
   ]
  },
  {
   "cell_type": "code",
   "execution_count": null,
   "metadata": {},
   "outputs": [],
   "source": []
  },
  {
   "cell_type": "code",
   "execution_count": 4,
   "metadata": {},
   "outputs": [
    {
     "data": {
      "text/plain": [
       "92"
      ]
     },
     "execution_count": 4,
     "metadata": {},
     "output_type": "execute_result"
    }
   ],
   "source": [
    "a = 'CYCQDPYVKEAENLKKYFNAGHSDVADNGTLFLGILKNWKEESDRKIMQSQIVSFYFKLFKNFKDDQSIQKSVETIKEDMNVKFFNSNEEVE'\n",
    "len(a)"
   ]
  },
  {
   "cell_type": "code",
   "execution_count": 5,
   "metadata": {},
   "outputs": [
    {
     "name": "stdout",
     "output_type": "stream",
     "text": [
      "abc.npy\n"
     ]
    }
   ],
   "source": [
    "onpy_name = 'abc'\n",
    "\n",
    "print(onpy_name + '.npy')"
   ]
  },
  {
   "cell_type": "code",
   "execution_count": null,
   "metadata": {},
   "outputs": [],
   "source": []
  },
  {
   "cell_type": "code",
   "execution_count": 6,
   "metadata": {},
   "outputs": [
    {
     "ename": "FileNotFoundError",
     "evalue": "[Errno 2] No such file or directory: '/home/cnj/cs/test_methods/XU_pretrain_train_positive.npy'",
     "output_type": "error",
     "traceback": [
      "\u001b[0;31m---------------------------------------------------------------------------\u001b[0m",
      "\u001b[0;31mFileNotFoundError\u001b[0m                         Traceback (most recent call last)",
      "\u001b[1;32m/home/cnj/cs/test_methods/node_embed/draft.ipynb Cell 6\u001b[0m line \u001b[0;36m3\n\u001b[1;32m      <a href='vscode-notebook-cell://ssh-remote%2B7b22686f73744e616d65223a22343039304f46227d/home/cnj/cs/test_methods/node_embed/draft.ipynb#W5sdnNjb2RlLXJlbW90ZQ%3D%3D?line=0'>1</a>\u001b[0m \u001b[39mimport\u001b[39;00m \u001b[39mnumpy\u001b[39;00m \u001b[39mas\u001b[39;00m \u001b[39mnp\u001b[39;00m\n\u001b[0;32m----> <a href='vscode-notebook-cell://ssh-remote%2B7b22686f73744e616d65223a22343039304f46227d/home/cnj/cs/test_methods/node_embed/draft.ipynb#W5sdnNjb2RlLXJlbW90ZQ%3D%3D?line=2'>3</a>\u001b[0m b \u001b[39m=\u001b[39m np\u001b[39m.\u001b[39;49mload(\u001b[39m'\u001b[39;49m\u001b[39m/home/cnj/cs/test_methods/XU_pretrain_train_positive.npy\u001b[39;49m\u001b[39m'\u001b[39;49m, allow_pickle\u001b[39m=\u001b[39;49m\u001b[39mTrue\u001b[39;49;00m)\n\u001b[1;32m      <a href='vscode-notebook-cell://ssh-remote%2B7b22686f73744e616d65223a22343039304f46227d/home/cnj/cs/test_methods/node_embed/draft.ipynb#W5sdnNjb2RlLXJlbW90ZQ%3D%3D?line=4'>5</a>\u001b[0m \u001b[39mfor\u001b[39;00m i \u001b[39min\u001b[39;00m b:\n\u001b[1;32m      <a href='vscode-notebook-cell://ssh-remote%2B7b22686f73744e616d65223a22343039304f46227d/home/cnj/cs/test_methods/node_embed/draft.ipynb#W5sdnNjb2RlLXJlbW90ZQ%3D%3D?line=5'>6</a>\u001b[0m     \u001b[39mprint\u001b[39m(i\u001b[39m.\u001b[39mshape)\n",
      "File \u001b[0;32m~/anaconda3/envs/amp_test/lib/python3.8/site-packages/numpy/lib/npyio.py:405\u001b[0m, in \u001b[0;36mload\u001b[0;34m(file, mmap_mode, allow_pickle, fix_imports, encoding, max_header_size)\u001b[0m\n\u001b[1;32m    403\u001b[0m     own_fid \u001b[39m=\u001b[39m \u001b[39mFalse\u001b[39;00m\n\u001b[1;32m    404\u001b[0m \u001b[39melse\u001b[39;00m:\n\u001b[0;32m--> 405\u001b[0m     fid \u001b[39m=\u001b[39m stack\u001b[39m.\u001b[39menter_context(\u001b[39mopen\u001b[39;49m(os_fspath(file), \u001b[39m\"\u001b[39;49m\u001b[39mrb\u001b[39;49m\u001b[39m\"\u001b[39;49m))\n\u001b[1;32m    406\u001b[0m     own_fid \u001b[39m=\u001b[39m \u001b[39mTrue\u001b[39;00m\n\u001b[1;32m    408\u001b[0m \u001b[39m# Code to distinguish from NumPy binary files and pickles.\u001b[39;00m\n",
      "\u001b[0;31mFileNotFoundError\u001b[0m: [Errno 2] No such file or directory: '/home/cnj/cs/test_methods/XU_pretrain_train_positive.npy'"
     ]
    }
   ],
   "source": [
    "import numpy as np\n",
    "\n",
    "b = np.load('/home/cnj/cs/test_methods/XU_pretrain_train_positive.npy', allow_pickle=True)\n",
    "\n",
    "for i in b:\n",
    "    print(i.shape)\n",
    "\n"
   ]
  },
  {
   "cell_type": "code",
   "execution_count": null,
   "metadata": {},
   "outputs": [
    {
     "data": {
      "text/plain": [
       "4426"
      ]
     },
     "execution_count": 15,
     "metadata": {},
     "output_type": "execute_result"
    }
   ],
   "source": [
    "len(b)"
   ]
  },
  {
   "cell_type": "code",
   "execution_count": null,
   "metadata": {},
   "outputs": [
    {
     "name": "stderr",
     "output_type": "stream",
     "text": [
      "/home/cnj/anaconda3/envs/amp_test/lib/python3.8/site-packages/tqdm/auto.py:21: TqdmWarning: IProgress not found. Please update jupyter and ipywidgets. See https://ipywidgets.readthedocs.io/en/stable/user_install.html\n",
      "  from .autonotebook import tqdm as notebook_tqdm\n"
     ]
    }
   ],
   "source": [
    "from bio_embeddings.embed import SeqVecEmbedder"
   ]
  },
  {
   "cell_type": "code",
   "execution_count": null,
   "metadata": {},
   "outputs": [
    {
     "name": "stderr",
     "output_type": "stream",
     "text": [
      "/home/cnj/anaconda3/envs/trans/lib/python3.8/site-packages/tqdm/auto.py:21: TqdmWarning: IProgress not found. Please update jupyter and ipywidgets. See https://ipywidgets.readthedocs.io/en/stable/user_install.html\n",
      "  from .autonotebook import tqdm as notebook_tqdm\n"
     ]
    },
    {
     "ename": "ImportError",
     "evalue": "cannot import name 'SeqVecEmbedder' from 'bio_embeddings.embed' (/home/cnj/anaconda3/envs/trans/lib/python3.8/site-packages/bio_embeddings/embed/__init__.py)",
     "output_type": "error",
     "traceback": [
      "\u001b[0;31m---------------------------------------------------------------------------\u001b[0m",
      "\u001b[0;31mImportError\u001b[0m                               Traceback (most recent call last)",
      "\u001b[1;32m/home/cnj/cs/test_methods/node_embed/draft.ipynb Cell 8\u001b[0m line \u001b[0;36m1\n\u001b[0;32m----> <a href='vscode-notebook-cell://ssh-remote%2B7b22686f73744e616d65223a22343039304f46227d/home/cnj/cs/test_methods/node_embed/draft.ipynb#X13sdnNjb2RlLXJlbW90ZQ%3D%3D?line=0'>1</a>\u001b[0m \u001b[39mfrom\u001b[39;00m \u001b[39mbio_embeddings\u001b[39;00m\u001b[39m.\u001b[39;00m\u001b[39membed\u001b[39;00m \u001b[39mimport\u001b[39;00m SeqVecEmbedder\n\u001b[1;32m      <a href='vscode-notebook-cell://ssh-remote%2B7b22686f73744e616d65223a22343039304f46227d/home/cnj/cs/test_methods/node_embed/draft.ipynb#X13sdnNjb2RlLXJlbW90ZQ%3D%3D?line=2'>3</a>\u001b[0m \u001b[39mdef\u001b[39;00m \u001b[39mseq2vec_encoding\u001b[39m(seqs, model_path):\n\u001b[1;32m      <a href='vscode-notebook-cell://ssh-remote%2B7b22686f73744e616d65223a22343039304f46227d/home/cnj/cs/test_methods/node_embed/draft.ipynb#X13sdnNjb2RlLXJlbW90ZQ%3D%3D?line=3'>4</a>\u001b[0m     \n\u001b[1;32m      <a href='vscode-notebook-cell://ssh-remote%2B7b22686f73744e616d65223a22343039304f46227d/home/cnj/cs/test_methods/node_embed/draft.ipynb#X13sdnNjb2RlLXJlbW90ZQ%3D%3D?line=4'>5</a>\u001b[0m     \u001b[39m# * function to encode each residue in a single sequence into 1024 features\u001b[39;00m\n\u001b[1;32m      <a href='vscode-notebook-cell://ssh-remote%2B7b22686f73744e616d65223a22343039304f46227d/home/cnj/cs/test_methods/node_embed/draft.ipynb#X13sdnNjb2RlLXJlbW90ZQ%3D%3D?line=5'>6</a>\u001b[0m     \u001b[39m# @param seq_ids: seqs array generated by `load_seqs`\u001b[39;00m\n\u001b[1;32m      <a href='vscode-notebook-cell://ssh-remote%2B7b22686f73744e616d65223a22343039304f46227d/home/cnj/cs/test_methods/node_embed/draft.ipynb#X13sdnNjb2RlLXJlbW90ZQ%3D%3D?line=6'>7</a>\u001b[0m     \u001b[39m# @param model_path: folder contains the pretraining model weight of `SeqVecEmbedder`: 1. 'weights.hdf5'; 2. 'options.json'\u001b[39;00m\n\u001b[1;32m      <a href='vscode-notebook-cell://ssh-remote%2B7b22686f73744e616d65223a22343039304f46227d/home/cnj/cs/test_methods/node_embed/draft.ipynb#X13sdnNjb2RlLXJlbW90ZQ%3D%3D?line=7'>8</a>\u001b[0m     \u001b[39m# @output: seqs to vec encoding list of the fasta sequences\u001b[39;00m\n\u001b[1;32m     <a href='vscode-notebook-cell://ssh-remote%2B7b22686f73744e616d65223a22343039304f46227d/home/cnj/cs/test_methods/node_embed/draft.ipynb#X13sdnNjb2RlLXJlbW90ZQ%3D%3D?line=9'>10</a>\u001b[0m     \u001b[39mprint\u001b[39m(\u001b[39m'\u001b[39m\u001b[39mrunning seq2vec encoding ...\u001b[39m\u001b[39m'\u001b[39m)\n",
      "\u001b[0;31mImportError\u001b[0m: cannot import name 'SeqVecEmbedder' from 'bio_embeddings.embed' (/home/cnj/anaconda3/envs/trans/lib/python3.8/site-packages/bio_embeddings/embed/__init__.py)"
     ]
    }
   ],
   "source": [
    "import os \n",
    "\n",
    "\n",
    "def seq2vec_encoding(seqs, model_path):\n",
    "    \n",
    "    # * function to encode each residue in a single sequence into 1024 features\n",
    "    # @param seq_ids: seqs array generated by `load_seqs`\n",
    "    # @param model_path: folder contains the pretraining model weight of `SeqVecEmbedder`: 1. 'weights.hdf5'; 2. 'options.json'\n",
    "    # @output: seqs to vec encoding list of the fasta sequences\n",
    "    \n",
    "    print('running seq2vec encoding ...')\n",
    "    weights = os.path.join(model_path, 'weights.hdf5')\n",
    "    options = os.path.join(model_path, 'options.json')\n",
    "    \n",
    "    seqs_vec_encoding = []\n",
    "\n",
    "    seq_embedder = SeqVecEmbedder(weights_file=str(weights), options_file=str(options), cuda_device=0)\n",
    "    \n",
    "    for seq in seqs:\n",
    "        seq2vec_embedding = seq_embedder.embed(seq)\n",
    "        # residue_embedding = torch.tensor(seq2vec_embedding).sum(dim=0)\n",
    "        residue_embedding = np.sum(seq2vec_embedding, axis=0) \n",
    "        seqs_vec_encoding.append(residue_embedding)\n",
    "        # print(residue_embedding.shape)\n",
    "        \n",
    "    return seqs_vec_encoding\n",
    "\n",
    "\n",
    "model_path = '/home/cnj/cs/peptide/myproject/seq2vec_pretrain_model'"
   ]
  },
  {
   "cell_type": "code",
   "execution_count": null,
   "metadata": {},
   "outputs": [
    {
     "name": "stderr",
     "output_type": "stream",
     "text": [
      "100%|██████████| 3/3 [00:00<00:00, 43389.35it/s]"
     ]
    },
    {
     "name": "stdout",
     "output_type": "stream",
     "text": [
      "[1, 2]\n",
      "[3, 4]\n",
      "[5, 6]\n"
     ]
    },
    {
     "name": "stderr",
     "output_type": "stream",
     "text": [
      "\n"
     ]
    }
   ],
   "source": [
    "from tqdm import tqdm\n",
    "\n",
    "a = [[1,2], [3,4],[5,6]]\n",
    "\n",
    "for i in tqdm(a):\n",
    "    print(i)"
   ]
  },
  {
   "cell_type": "code",
   "execution_count": null,
   "metadata": {},
   "outputs": [
    {
     "name": "stdout",
     "output_type": "stream",
     "text": [
      "['LAMP_L12A09502', 'LAMP_L12A07556', 'LAMP_L11A000473', 'AMPfun_434']\n"
     ]
    }
   ],
   "source": [
    "original_list = ['>LAMP_L12A09502', '>LAMP_L12A07556', '>LAMP|L11A000473', '>AMPfun_434']\n",
    "\n",
    "modified_list = [element.replace('>', '').replace('|', '_') for element in original_list]\n",
    "\n",
    "print(modified_list)"
   ]
  },
  {
   "cell_type": "code",
   "execution_count": null,
   "metadata": {},
   "outputs": [
    {
     "name": "stdout",
     "output_type": "stream",
     "text": [
      "0\n",
      "1\n",
      "2\n",
      "3\n"
     ]
    }
   ],
   "source": [
    "import numpy as np\n",
    "\n",
    "# 假设feature是一个名为feature的NumPy数组\n",
    "feature = np.array([0, 1, 2, 3, 4])\n",
    "\n",
    "# 假设modified_list是你之前修改过的列表\n",
    "modified_list = ['LAMP_L12A09502', 'LAMP_L12A07556', 'LAMP_L11A000473', 'AMPfun_434']\n",
    "\n",
    "for file_name in modified_list:\n",
    "    # 从feature数组中提取对应的元素\n",
    "    element = feature[modified_list.index(file_name)]\n",
    "    \n",
    "    print(modified_list.index(file_name))\n",
    "    # 将元素保存为.npy文件\n",
    "    # np.save(file_name + '.npy', element)"
   ]
  },
  {
   "cell_type": "code",
   "execution_count": null,
   "metadata": {},
   "outputs": [
    {
     "data": {
      "text/plain": [
       "'/media/cnj/T9/data/test_data/positive/hhm/'"
      ]
     },
     "execution_count": 2,
     "metadata": {},
     "output_type": "execute_result"
    }
   ],
   "source": [
    "npz_folder = '/media/cnj/T9/data/test_data/positive/npz'\n",
    "fasta_file = '/home/cnj/cs/test_methods/demo.fasta'\n",
    "\n",
    "'/'.join(npz_folder.split('/')[:-1]) + '/hhm/'"
   ]
  },
  {
   "cell_type": "code",
   "execution_count": null,
   "metadata": {},
   "outputs": [
    {
     "name": "stdout",
     "output_type": "stream",
     "text": [
      "torch.Size([32, 100, 34])\n"
     ]
    }
   ],
   "source": [
    "import torch.nn as nn\n",
    "import torch\n",
    "\n",
    "conv1 = nn.Conv1d(in_channels=256, out_channels=100, kernel_size=2)\n",
    "input = torch.randn(32,35,256)\n",
    "# batch_size x text_len x embedding_size -> batch_size x embedding_size x text_len\n",
    "input = input.permute(0,2,1)\n",
    "out = conv1(input)\n",
    "print(out.size())"
   ]
  },
  {
   "cell_type": "code",
   "execution_count": null,
   "metadata": {},
   "outputs": [
    {
     "data": {
      "text/plain": [
       "tensor([[[-2.3557, -0.2822,  1.0779, -0.2345, -0.0851],\n",
       "         [-0.9396, -1.0170, -0.8787,  0.0052, -0.2358],\n",
       "         [ 0.4351,  1.6668, -1.8665,  0.3388, -0.5330],\n",
       "         [ 0.0791, -0.8132,  0.1329,  0.8657,  1.6432]],\n",
       "\n",
       "        [[-2.0244, -0.1173, -0.5782,  1.6109, -0.5153],\n",
       "         [ 0.2387, -0.4315,  0.6108,  1.8983, -0.3509],\n",
       "         [-0.2966, -0.7078,  0.0775, -0.3674, -1.0422],\n",
       "         [-1.0057, -0.5215,  1.1750,  0.1869, -0.5250]],\n",
       "\n",
       "        [[-0.4781, -0.0099,  0.0631,  2.6440,  1.6254],\n",
       "         [ 0.2947,  1.2212, -0.5676,  0.3277, -0.5884],\n",
       "         [-0.2158,  0.0890,  1.1776, -0.7869, -0.0622],\n",
       "         [ 0.9943,  0.1731,  0.2692, -1.1863, -2.1312]]])"
      ]
     },
     "execution_count": 14,
     "metadata": {},
     "output_type": "execute_result"
    }
   ],
   "source": [
    "a = torch.randn(3,4,5)\n",
    "a"
   ]
  },
  {
   "cell_type": "code",
   "execution_count": null,
   "metadata": {},
   "outputs": [
    {
     "data": {
      "text/plain": [
       "tensor([[-2.3557, -0.2822,  1.0779, -0.2345, -0.0851],\n",
       "        [-0.9396, -1.0170, -0.8787,  0.0052, -0.2358],\n",
       "        [ 0.4351,  1.6668, -1.8665,  0.3388, -0.5330],\n",
       "        [ 0.0791, -0.8132,  0.1329,  0.8657,  1.6432]])"
      ]
     },
     "execution_count": 15,
     "metadata": {},
     "output_type": "execute_result"
    }
   ],
   "source": [
    "a[0]"
   ]
  },
  {
   "cell_type": "code",
   "execution_count": null,
   "metadata": {},
   "outputs": [
    {
     "data": {
      "text/plain": [
       "tensor([-2.3557, -0.2822,  1.0779, -0.2345, -0.0851])"
      ]
     },
     "execution_count": 16,
     "metadata": {},
     "output_type": "execute_result"
    }
   ],
   "source": [
    "a[0][0]"
   ]
  },
  {
   "cell_type": "code",
   "execution_count": null,
   "metadata": {},
   "outputs": [
    {
     "name": "stdout",
     "output_type": "stream",
     "text": [
      "torch.Size([8, 4])\n",
      "torch.Size([5, 4])\n",
      "torch.Size([6, 4])\n",
      "torch.Size([7, 4])\n",
      "torch.Size([6, 4])\n",
      "tensor([[-0.7452,  1.2451,  1.3743,  0.6077],\n",
      "        [ 0.0351,  0.2238, -0.2748,  1.2828],\n",
      "        [-0.9276,  1.7167,  2.2772,  0.0730],\n",
      "        [ 0.3406, -1.2217, -1.0129, -1.4818],\n",
      "        [ 1.1417,  0.7242,  0.4656,  1.5999],\n",
      "        [-0.1191, -0.8389,  0.5087,  1.0264],\n",
      "        [-0.8180,  1.5677, -0.3932, -0.1825],\n",
      "        [-1.0650,  1.9521, -0.7859, -1.4365]])\n",
      "tensor([[-0.9088, -0.0756, -0.7647,  1.2211],\n",
      "        [ 0.2193, -1.4624,  0.8282,  0.1934],\n",
      "        [ 0.9841, -2.0314,  2.3655, -1.5870],\n",
      "        [ 1.4287,  0.4612, -1.2353, -0.9411],\n",
      "        [-1.7295,  0.7865,  1.6204,  1.2212]])\n"
     ]
    }
   ],
   "source": [
    "import random\n",
    "# 设置循环次数\n",
    "num_iterations = 5\n",
    "list=[]\n",
    "# 循环获取随机数\n",
    "i = 0\n",
    "while i < num_iterations:\n",
    "    random_number = random.randint(5, 9)\n",
    "    vec = torch.randn(random_number, 4)\n",
    "    print(vec.shape)\n",
    "    list.append(vec)\n",
    "    i += 1\n",
    "    \n",
    "print(list[0])\n",
    "print(list[1])\n",
    "print(list[2])"
   ]
  },
  {
   "cell_type": "code",
   "execution_count": null,
   "metadata": {},
   "outputs": [
    {
     "name": "stdout",
     "output_type": "stream",
     "text": [
      "2\n",
      "torch.Size([24, 8, 5])\n",
      "torch.Size([24, 4, 5])\n"
     ]
    }
   ],
   "source": [
    "kernel_size = 5\n",
    "padding = kernel_size // 2\n",
    "print(padding)\n",
    "\n",
    "conv1 = nn.Conv1d(in_channels=16, out_channels=8, kernel_size=kernel_size, stride=1, padding=padding)\n",
    "conv2 = nn.Conv1d(in_channels=8, out_channels=4, kernel_size=kernel_size, stride=1, padding=padding)\n",
    "\n",
    "input = torch.randn(24, 5, 16)  # [batch_size, max_len, embedding_dim]\n",
    "input = input.permute(0, 2, 1)    # 交换维度：[batch_size, embedding_dim, max_len]\n",
    "out = conv1(input)                # [batch_size, out_channels, n+2p-f/s+1]\n",
    "print(out.shape)      \t\t\t  # torch.Size([32, 100, 33])\n",
    "\n",
    "out2 = conv2(out)\n",
    "print(out2.shape)\n",
    "\n"
   ]
  },
  {
   "cell_type": "code",
   "execution_count": null,
   "metadata": {},
   "outputs": [
    {
     "name": "stdout",
     "output_type": "stream",
     "text": [
      "Total parameters: 104932548\n"
     ]
    }
   ],
   "source": [
    "import torch\n",
    "import torch.nn as nn\n",
    "\n",
    "# 定义MLP模型\n",
    "class MLP(nn.Module):\n",
    "    def __init__(self, input_dim, hidden_dim, output_dim):\n",
    "        super(MLP, self).__init__()\n",
    "        self.fc1 = nn.Linear(input_dim, 512)\n",
    "        self.fc2 = nn.Linear(512, 128)\n",
    "        self.fc3 = nn.Linear(128, 68)\n",
    "\n",
    "    def forward(self, x):\n",
    "        x = torch.flatten(x, start_dim=1)\n",
    "        x = self.fc1(x)\n",
    "        x = torch.relu(x)\n",
    "        x = self.fc2(x)\n",
    "        x = torch.relu(x)\n",
    "        x = self.fc3(x)\n",
    "        return x\n",
    "\n",
    "# 创建MLP模型实例\n",
    "input_dim = 100 * 2048\n",
    "hidden_dim = 68\n",
    "output_dim = 100 * 68\n",
    "model = MLP(input_dim, hidden_dim, output_dim)\n",
    "\n",
    "# 统计模型参数数量\n",
    "total_params = sum(p.numel() for p in model.parameters() if p.requires_grad)\n",
    "\n",
    "print(\"Total parameters: {}\".format(total_params))\n",
    "\n",
    "    \n",
    "    "
   ]
  },
  {
   "cell_type": "code",
   "execution_count": 80,
   "metadata": {},
   "outputs": [
    {
     "name": "stdout",
     "output_type": "stream",
     "text": [
      "输入数据:\n",
      "tensor([[[ 1.,  2.,  3.,  4.,  5.],\n",
      "         [ 6.,  7.,  8.,  9., 10.],\n",
      "         [11., 12., 13., 14., 15.]],\n",
      "\n",
      "        [[16., 17., 18., 19., 20.],\n",
      "         [21., 22., 23., 24., 25.],\n",
      "         [26., 27., 28., 29., 30.]]])\n",
      "输出数据:\n",
      "tensor([[[ -4.8972,  -5.8990,  -6.9007,  -7.9025,  -8.9043],\n",
      "         [  2.0870,   1.6679,   1.2488,   0.8298,   0.4107]],\n",
      "\n",
      "        [[-19.9240, -20.9258, -21.9276, -22.9294, -23.9312],\n",
      "         [ -4.1992,  -4.6183,  -5.0374,  -5.4565,  -5.8756]]],\n",
      "       grad_fn=<SqueezeBackward1>)\n"
     ]
    }
   ],
   "source": [
    "import torch\n",
    "import torch.nn as nn\n",
    "\n",
    "# 输入数据\n",
    "input_data = torch.tensor([\n",
    "    [[1, 2, 3, 4, 5], [6, 7, 8, 9, 10], [11, 12, 13, 14, 15]],\n",
    "    [[16, 17, 18, 19, 20], [21, 22, 23, 24, 25], [26, 27, 28, 29, 30]]], dtype=torch.float32)\n",
    "\n",
    "# 创建卷积层\n",
    "conv = nn.Conv1d(3, 2, kernel_size=(1,))\n",
    "# conv = nn.Conv1d(3, 2, kernel_size=3, padding=1)\n",
    "# 执行卷积操作\n",
    "output_data = conv(input_data)\n",
    "\n",
    "print(\"输入数据:\")\n",
    "print(input_data)\n",
    "print(\"输出数据:\")\n",
    "print(output_data)"
   ]
  },
  {
   "cell_type": "code",
   "execution_count": 16,
   "metadata": {},
   "outputs": [
    {
     "name": "stdout",
     "output_type": "stream",
     "text": [
      "Total parameters: 3344256\n"
     ]
    }
   ],
   "source": [
    "import torch\n",
    "import torch.nn as nn\n",
    "\n",
    "# 定义MLP模型\n",
    "class CNNblock(nn.Module):\n",
    "    def __init__(self):\n",
    "        super(CNNblock, self).__init__()\n",
    "        self.conv1 = nn.Sequential(nn.Conv1d(in_channels=2048, out_channels=512, kernel_size=3, stride=1, padding=1),\n",
    "                                   nn.BatchNorm1d(num_features=512),\n",
    "                                   nn.ReLU(),\n",
    "                                   ) \n",
    "        \n",
    "        self.conv2 = nn.Sequential(nn.Conv1d(in_channels=512, out_channels=128, kernel_size=3, stride=1, padding=1),\n",
    "                                   nn.BatchNorm1d(num_features=128),\n",
    "                                   nn.ReLU(),\n",
    "                                   )\n",
    "\n",
    "    def forward(self, x):\n",
    "        x = self.conv1(x)\n",
    "        x = self.conv2(x)\n",
    "        # x = self.conv3(x)\n",
    "        return x\n",
    "\n",
    "\n",
    "# 创建MLP模型实例\n",
    "input_dim = 100 * 1024\n",
    "hidden_dim = 68\n",
    "output_dim = 100 * 68\n",
    "kernel_size=3\n",
    "model = CNNblock()\n",
    "\n",
    "# 统计模型参数数量\n",
    "total_params = sum(p.numel() for p in model.parameters() if p.requires_grad)\n",
    "\n",
    "print(\"Total parameters: {}\".format(total_params))"
   ]
  },
  {
   "cell_type": "code",
   "execution_count": 17,
   "metadata": {},
   "outputs": [],
   "source": [
    "import torch.nn.functional as F\n",
    "\n",
    "class Conv1d(nn.Module): \n",
    "    def __init__(self, in_channels, out_channels, kernel_size, stride=(1,),\n",
    "                 dilation=(1,), if_bias=False, relu=True, same_padding=True, bn=True):\n",
    "        super(Conv1d, self).__init__()\n",
    "        p0 = int((kernel_size[0] - 1) / 2) if same_padding else 0\n",
    "        self.conv = nn.Conv1d(in_channels, out_channels, kernel_size=kernel_size, stride=stride, padding=p0,\n",
    "                              dilation=dilation, bias=True if if_bias else False)\n",
    "        self.bn = nn.BatchNorm1d(out_channels) if bn else None\n",
    "        self.relu = nn.ReLU(inplace=True) if relu else None\n",
    "        # self.relu = nn.SELU(inplace=True) if relu else None\n",
    "\n",
    "    def forward(self, x):\n",
    "        x = self.conv(x)\n",
    "        if self.bn is not None:\n",
    "            x = self.bn(x)\n",
    "        if self.relu is not None:\n",
    "            x = self.relu(x)\n",
    "        x = F.dropout(x, 0.3, training=self.training)\n",
    "        return x"
   ]
  },
  {
   "cell_type": "code",
   "execution_count": 18,
   "metadata": {},
   "outputs": [],
   "source": [
    "class multiscale(nn.Module):\n",
    "    def __init__(self, in_channel, out_channel):\n",
    "        super(multiscale, self).__init__()\n",
    "\n",
    "        self.conv0 = Conv1d(in_channel, out_channel, kernel_size=(1,), same_padding=False)\n",
    "\n",
    "        self.conv1 = nn.Sequential(\n",
    "            Conv1d(in_channel, out_channel, kernel_size=(1,), same_padding=False, bn=False),\n",
    "            Conv1d(out_channel, out_channel, kernel_size=(3,), same_padding=True),\n",
    "        )\n",
    "\n",
    "        self.conv2 = nn.Sequential(\n",
    "            Conv1d(in_channel, out_channel, kernel_size=(1,), same_padding=False),\n",
    "            Conv1d(out_channel, out_channel, kernel_size=(5,), same_padding=True),\n",
    "            Conv1d(out_channel, out_channel, kernel_size=(5,), same_padding=True),\n",
    "        )\n",
    "\n",
    "        self.conv3 = nn.Sequential(\n",
    "            Conv1d(in_channel, out_channel, kernel_size=(1,), same_padding=False),\n",
    "            Conv1d(out_channel, out_channel, kernel_size=(7,), same_padding=True),\n",
    "            Conv1d(out_channel, out_channel, kernel_size=(7,), same_padding=True),\n",
    "            Conv1d(out_channel, out_channel, kernel_size=(7,), same_padding=True)\n",
    "        )\n",
    "\n",
    "    def forward(self, x):\n",
    "\n",
    "        x0 = self.conv0(x)\n",
    "        x1 = self.conv1(x)\n",
    "        x2 = self.conv2(x)\n",
    "        x3 = self.conv3(x)\n",
    "\n",
    "        x4 = torch.cat([x0, x1, x2, x3], dim=1) # batch_size * 4outchannel * len\n",
    "        return x4 + x"
   ]
  },
  {
   "cell_type": "code",
   "execution_count": 19,
   "metadata": {},
   "outputs": [],
   "source": [
    "from math import log\n",
    "\n",
    "class Net(nn.Module):\n",
    "    def __init__(self, k=3):\n",
    "        super().__init__()\n",
    "        base_channel = 8\n",
    "        number_of_layers = int(log(101-k+1, 2))\n",
    "\n",
    "        self.conv0 = CNNblock()\n",
    "        \n",
    "        self.multiscale = multiscale(128, 32)\n",
    "        # self.dpcnn = DPCNN(64 * 4, number_of_layers)\n",
    "        \n",
    "    def forward(self, bert_embedding):\n",
    "        x0 = bert_embedding  # (N, 768, 99)\n",
    "        x0 = self.conv0(x0)\n",
    "        x0 = self.multiscale(x0)\n",
    "\n",
    "        return (x0)"
   ]
  },
  {
   "cell_type": "code",
   "execution_count": 20,
   "metadata": {},
   "outputs": [],
   "source": [
    "device = torch.device('cuda' if torch.cuda.is_available() else 'cpu')\n",
    "model = Net().to(device)"
   ]
  },
  {
   "cell_type": "code",
   "execution_count": 21,
   "metadata": {},
   "outputs": [
    {
     "name": "stdout",
     "output_type": "stream",
     "text": [
      "Total parameters: 3396032\n"
     ]
    }
   ],
   "source": [
    "total_params = sum(p.numel() for p in model.parameters() if p.requires_grad)\n",
    "print(\"Total parameters: {}\".format(total_params))"
   ]
  },
  {
   "cell_type": "code",
   "execution_count": 22,
   "metadata": {},
   "outputs": [
    {
     "name": "stdout",
     "output_type": "stream",
     "text": [
      "torch.Size([24, 128, 6])\n"
     ]
    }
   ],
   "source": [
    "input = torch.randn(24, 6, 2048).to(device)  # [batch_size, max_len, embedding_dim]\n",
    "input = input.permute(0, 2, 1)    # 交换维度：[batch_size, embedding_dim, max_len]\n",
    "out = model(input)                # [batch_size, out_channels, n+2p-f/s+1]\n",
    "print(out.shape)   "
   ]
  },
  {
   "cell_type": "code",
   "execution_count": 23,
   "metadata": {},
   "outputs": [
    {
     "ename": "SyntaxError",
     "evalue": "invalid syntax (1933637684.py, line 1)",
     "output_type": "error",
     "traceback": [
      "\u001b[0;36m  Cell \u001b[0;32mIn[23], line 1\u001b[0;36m\u001b[0m\n\u001b[0;31m    .\u001b[0m\n\u001b[0m    ^\u001b[0m\n\u001b[0;31mSyntaxError\u001b[0m\u001b[0;31m:\u001b[0m invalid syntax\n"
     ]
    }
   ],
   "source": [
    "."
   ]
  },
  {
   "cell_type": "code",
   "execution_count": 88,
   "metadata": {},
   "outputs": [],
   "source": [
    "import torch.nn.functional as F\n",
    "\n",
    "class Conv1d(nn.Module): \n",
    "    def __init__(self, in_channels, out_channels, kernel_size, stride=(1,),\n",
    "                 dilation=(1,), if_bias=False, relu=True, same_padding=True, bn=True):\n",
    "        super(Conv1d, self).__init__()\n",
    "        p0 = int((kernel_size[0] - 1) / 2) if same_padding else 0\n",
    "        self.conv = nn.Conv1d(in_channels, out_channels, kernel_size=kernel_size, stride=stride, padding=p0,\n",
    "                              dilation=dilation, bias=True if if_bias else False)\n",
    "        self.bn = nn.BatchNorm1d(out_channels) if bn else None\n",
    "        self.relu = nn.ReLU(inplace=True) if relu else None\n",
    "        # self.relu = nn.SELU(inplace=True) if relu else None\n",
    "\n",
    "    def forward(self, x):\n",
    "        x = self.conv(x)\n",
    "        if self.bn is not None:\n",
    "            x = self.bn(x)\n",
    "        if self.relu is not None:\n",
    "            x = self.relu(x)\n",
    "        x = F.dropout(x, 0.3, training=self.training)\n",
    "        return x"
   ]
  },
  {
   "cell_type": "code",
   "execution_count": 89,
   "metadata": {},
   "outputs": [],
   "source": [
    "import torch\n",
    "import torch.nn as nn\n",
    "import torch.nn.functional as F\n",
    "\n",
    "# 定义MLP模型\n",
    "class CNNblock(nn.Module):\n",
    "    def __init__(self):\n",
    "        super(CNNblock, self).__init__()\n",
    "        self.conv0 = nn.Sequential(nn.Conv1d(in_channels=1024, out_channels=256, kernel_size=3, stride=1, padding=1),\n",
    "                                   nn.BatchNorm1d(num_features=256),\n",
    "                                   nn.ReLU(),\n",
    "                                   ) \n",
    "        \n",
    "        self.conv1 = nn.Sequential(nn.Conv1d(in_channels=256, out_channels=64, kernel_size=3, stride=1, padding=1),\n",
    "                                   nn.BatchNorm1d(num_features=64),\n",
    "                                   nn.ReLU(),\n",
    "                                   )\n",
    "\n",
    "    def forward(self, x):\n",
    "        x = self.conv0(x)\n",
    "        x = F.dropout(x, 0.3, training=self.training)\n",
    "        x = self.conv1(x)\n",
    "        x = F.dropout(x, 0.3, training=self.training)\n",
    "        # x = self.conv3(x)\n",
    "        return x\n"
   ]
  },
  {
   "cell_type": "code",
   "execution_count": 90,
   "metadata": {},
   "outputs": [],
   "source": [
    "class CNNblock1(nn.Module):\n",
    "    def __init__(self) -> None:\n",
    "        super(CNNblock1, self).__init__()\n",
    "        self.conv0 = nn.Sequential(Conv1d(1024, 256, kernel_size=(1,), stride=1),\n",
    "                                   Conv1d(256, 64, kernel_size=(1,), stride=1),\n",
    "                                   )\n",
    "        \n",
    "    def forward(self, x):\n",
    "        x = self.conv0(x)\n",
    "        \n",
    "        return x\n",
    "        \n",
    "            "
   ]
  },
  {
   "cell_type": "code",
   "execution_count": 91,
   "metadata": {},
   "outputs": [],
   "source": [
    "class multiscale(nn.Module):\n",
    "    def __init__(self, in_channel, out_channel):\n",
    "        super(multiscale, self).__init__()\n",
    "\n",
    "        self.conv0 = Conv1d(in_channel, out_channel, kernel_size=(1,), same_padding=False)\n",
    "\n",
    "        self.conv1 = nn.Sequential(\n",
    "            Conv1d(in_channel, out_channel, kernel_size=(1,), same_padding=False, bn=False),\n",
    "            Conv1d(out_channel, out_channel, kernel_size=(3,), same_padding=True),\n",
    "        )\n",
    "\n",
    "        self.conv2 = nn.Sequential(\n",
    "            Conv1d(in_channel, out_channel, kernel_size=(1,), same_padding=False),\n",
    "            Conv1d(out_channel, out_channel, kernel_size=(5,), same_padding=True),\n",
    "            Conv1d(out_channel, out_channel, kernel_size=(5,), same_padding=True),\n",
    "        )\n",
    "\n",
    "        self.conv3 = nn.Sequential(\n",
    "            Conv1d(in_channel, out_channel, kernel_size=(1,), same_padding=False),\n",
    "            Conv1d(out_channel, out_channel, kernel_size=(7,), same_padding=True),\n",
    "            Conv1d(out_channel, out_channel, kernel_size=(7,), same_padding=True),\n",
    "            Conv1d(out_channel, out_channel, kernel_size=(7,), same_padding=True)\n",
    "        )\n",
    "\n",
    "    def forward(self, x):\n",
    "\n",
    "        x0 = self.conv0(x)\n",
    "        x1 = self.conv1(x)\n",
    "        x2 = self.conv2(x)\n",
    "        x3 = self.conv3(x)\n",
    "\n",
    "        x4 = torch.cat([x0, x1, x2, x3], dim=1) # batch_size * 4outchannel * len\n",
    "        return x4 + x"
   ]
  },
  {
   "cell_type": "code",
   "execution_count": 92,
   "metadata": {},
   "outputs": [],
   "source": [
    "from math import log\n",
    "\n",
    "class Net(nn.Module):\n",
    "    def __init__(self, k=3):\n",
    "        super().__init__()\n",
    "        base_channel = 8\n",
    "        number_of_layers = int(log(101-k+1, 2))\n",
    "\n",
    "        self.conv_s2v = CNNblock1()\n",
    "        self.conv_lm = CNNblock1()\n",
    "        \n",
    "        self.multiscale_s2v = multiscale(64, 16)\n",
    "        self.multiscale_lm = multiscale(64, 16)\n",
    "        # self.dpcnn = DPCNN(64 * 4, number_of_layers)\n",
    "        \n",
    "    def forward(self, s2v_embedding, lm_embedding):\n",
    "        x0 = s2v_embedding # (N, 768, 99)\n",
    "        x1 = lm_embedding\n",
    "        x0 = self.conv_s2v(x0)\n",
    "        x1 = self.conv_lm(x1)\n",
    "        x0 = self.multiscale_s2v(x0)\n",
    "        x = torch.cat([x0, x1], dim=1)\n",
    "\n",
    "        return (x)"
   ]
  },
  {
   "cell_type": "code",
   "execution_count": 93,
   "metadata": {},
   "outputs": [
    {
     "name": "stdout",
     "output_type": "stream",
     "text": [
      "Total parameters: 584512\n"
     ]
    }
   ],
   "source": [
    "device = torch.device('cuda' if torch.cuda.is_available() else 'cpu')\n",
    "model = Net().to(device)\n",
    "total_params = sum(p.numel() for p in model.parameters() if p.requires_grad)\n",
    "print(\"Total parameters: {}\".format(total_params))"
   ]
  },
  {
   "cell_type": "code",
   "execution_count": 94,
   "metadata": {},
   "outputs": [
    {
     "name": "stdout",
     "output_type": "stream",
     "text": [
      "torch.Size([24, 128, 6])\n"
     ]
    }
   ],
   "source": [
    "s2v = torch.randn(24, 6, 1024).to(device)  # [batch_size, max_len, embedding_dim]\n",
    "lm = torch.randn(24, 6, 1024).to(device)\n",
    "\n",
    "s2v = s2v.permute(0, 2, 1)    # 交换维度：[batch_size, embedding_dim, max_len]\n",
    "lm = lm.permute(0, 2, 1)\n",
    "\n",
    "out = model(s2v, lm)                # [batch_size, out_channels, n+2p-f/s+1]\n",
    "print(out.shape) "
   ]
  },
  {
   "cell_type": "code",
   "execution_count": 95,
   "metadata": {},
   "outputs": [
    {
     "name": "stdout",
     "output_type": "stream",
     "text": [
      "torch.Size([128, 6])\n",
      "torch.Size([128, 4])\n"
     ]
    }
   ],
   "source": [
    "print(out[0].shape)\n",
    "print(out[0, :, :4].shape)"
   ]
  },
  {
   "cell_type": "code",
   "execution_count": 96,
   "metadata": {},
   "outputs": [
    {
     "name": "stdout",
     "output_type": "stream",
     "text": [
      "torch.Size([128, 4])\n",
      "torch.Size([128])\n"
     ]
    }
   ],
   "source": [
    "a = out[0, :, :4]\n",
    "print(a.shape)\n",
    "print(a[:, 0].shape)"
   ]
  },
  {
   "cell_type": "code",
   "execution_count": 97,
   "metadata": {},
   "outputs": [
    {
     "ename": "SyntaxError",
     "evalue": "invalid syntax (1933637684.py, line 1)",
     "output_type": "error",
     "traceback": [
      "\u001b[0;36m  Cell \u001b[0;32mIn[97], line 1\u001b[0;36m\u001b[0m\n\u001b[0;31m    .\u001b[0m\n\u001b[0m    ^\u001b[0m\n\u001b[0;31mSyntaxError\u001b[0m\u001b[0;31m:\u001b[0m invalid syntax\n"
     ]
    }
   ],
   "source": [
    "."
   ]
  },
  {
   "cell_type": "code",
   "execution_count": null,
   "metadata": {},
   "outputs": [
    {
     "name": "stdout",
     "output_type": "stream",
     "text": [
      "running seq2vec encoding ...\n",
      "running language model encoding ...\n"
     ]
    }
   ],
   "source": [
    "from featurization import load_seqs, seq2vec_encoding, lm_encoding\n",
    "\n",
    "fasta_file = '/media/cnj/T9/data/test_data/positive/demo.fasta'\n",
    "\n",
    "seq_ids, seqs, labels = load_seqs(fasta_file, 1, task='cls')\n",
    "\n",
    "s2v_folder = s2v_folder = '/'.join(fasta_file.split('/')[:-1]) + '/s2v/'\n",
    "lm_folder = s2v_folder = '/'.join(fasta_file.split('/')[:-1]) + '/lm/'\n",
    "\n",
    "s2v = seq2vec_encoding(seq_ids, s2v_folder)\n",
    "lm = lm_encoding(seq_ids, lm_folder)\n",
    "\n",
    "arr = lm\n",
    "s = arr[0]"
   ]
  },
  {
   "cell_type": "code",
   "execution_count": null,
   "metadata": {},
   "outputs": [
    {
     "name": "stdout",
     "output_type": "stream",
     "text": [
      "[0.00087059196, 0.0012645025, -0.00033165189]\n",
      "[1.2765226, 1.5807639, 1.7438128]\n",
      "[-1.6460301, -1.5264282, -1.4460856]\n"
     ]
    }
   ],
   "source": [
    "import numpy as np\n",
    "\n",
    "s = [np.mean(_) for _ in arr]\n",
    "m = [np.max(_) for _ in arr]\n",
    "n = [np.min(_) for _ in arr]\n",
    "print(s)\n",
    "print(m)\n",
    "print(n)"
   ]
  },
  {
   "cell_type": "code",
   "execution_count": null,
   "metadata": {},
   "outputs": [
    {
     "name": "stdout",
     "output_type": "stream",
     "text": [
      "[-1.7092509e-08  2.0598664e-08 -3.8567713e-08 ... -1.2723510e-08\n",
      "  2.8049245e-08  3.1555402e-08]\n"
     ]
    }
   ],
   "source": [
    "\n",
    "def array2d_norm(array_2d):\n",
    "    \n",
    "    mean = np.mean(array_2d, axis=0)\n",
    "    std = np.std(array_2d, axis=0)\n",
    "\n",
    "    std_array = np.divide(np.subtract(array_2d, mean), std)\n",
    "    \n",
    "    return std_array\n",
    "\n",
    "t = arr[0]\n",
    "\n",
    "nt = array2d_norm(t)\n",
    "print(np.mean(nt, axis=0))\n"
   ]
  },
  {
   "cell_type": "code",
   "execution_count": null,
   "metadata": {},
   "outputs": [
    {
     "data": {
      "text/plain": [
       "torch.Size([8, 10])"
      ]
     },
     "execution_count": 74,
     "metadata": {},
     "output_type": "execute_result"
    }
   ],
   "source": [
    "x = torch.randn(8, 6)\n",
    "pad_x = torch.nn.functional.pad(x, (0, 4))\n",
    "pad_x.shape"
   ]
  },
  {
   "cell_type": "code",
   "execution_count": 6,
   "metadata": {},
   "outputs": [
    {
     "data": {
      "text/plain": [
       "torch.Size([6, 8])"
      ]
     },
     "execution_count": 6,
     "metadata": {},
     "output_type": "execute_result"
    }
   ],
   "source": [
    "x = torch.randn(8, 6)\n"
   ]
  },
  {
   "cell_type": "code",
   "execution_count": null,
   "metadata": {},
   "outputs": [],
   "source": [
    "."
   ]
  },
  {
   "cell_type": "code",
   "execution_count": null,
   "metadata": {},
   "outputs": [
    {
     "data": {
      "text/plain": [
       "torch.Size([3, 100, 2048])"
      ]
     },
     "execution_count": 13,
     "metadata": {},
     "output_type": "execute_result"
    }
   ],
   "source": [
    "x = torch.randn(3, 100, 2048)\n",
    "x.shape"
   ]
  },
  {
   "cell_type": "code",
   "execution_count": null,
   "metadata": {},
   "outputs": [
    {
     "ename": "TypeError",
     "evalue": "forward() missing 1 required positional argument: 'structure'",
     "output_type": "error",
     "traceback": [
      "\u001b[0;31m---------------------------------------------------------------------------\u001b[0m",
      "\u001b[0;31mTypeError\u001b[0m                                 Traceback (most recent call last)",
      "\u001b[1;32m/home/cnj/cs/test_methods/node_embed/draft.ipynb Cell 29\u001b[0m line \u001b[0;36m1\n\u001b[0;32m----> <a href='vscode-notebook-cell://ssh-remote%2B7b22686f73744e616d65223a22343039304f46227d/home/cnj/cs/test_methods/node_embed/draft.ipynb#X31sdnNjb2RlLXJlbW90ZQ%3D%3D?line=0'>1</a>\u001b[0m a \u001b[39m=\u001b[39m model(x\u001b[39m.\u001b[39;49mpermute(\u001b[39m0\u001b[39;49m,\u001b[39m2\u001b[39;49m,\u001b[39m1\u001b[39;49m))\n\u001b[1;32m      <a href='vscode-notebook-cell://ssh-remote%2B7b22686f73744e616d65223a22343039304f46227d/home/cnj/cs/test_methods/node_embed/draft.ipynb#X31sdnNjb2RlLXJlbW90ZQ%3D%3D?line=1'>2</a>\u001b[0m \u001b[39mprint\u001b[39m(a\u001b[39m.\u001b[39mshape)\n\u001b[1;32m      <a href='vscode-notebook-cell://ssh-remote%2B7b22686f73744e616d65223a22343039304f46227d/home/cnj/cs/test_methods/node_embed/draft.ipynb#X31sdnNjb2RlLXJlbW90ZQ%3D%3D?line=2'>3</a>\u001b[0m \u001b[39mprint\u001b[39m(a\u001b[39m.\u001b[39mpermute(\u001b[39m0\u001b[39m,\u001b[39m2\u001b[39m,\u001b[39m1\u001b[39m)\u001b[39m.\u001b[39mshape)\n",
      "File \u001b[0;32m~/anaconda3/envs/amp_test/lib/python3.8/site-packages/torch/nn/modules/module.py:1102\u001b[0m, in \u001b[0;36mModule._call_impl\u001b[0;34m(self, *input, **kwargs)\u001b[0m\n\u001b[1;32m   1098\u001b[0m \u001b[39m# If we don't have any hooks, we want to skip the rest of the logic in\u001b[39;00m\n\u001b[1;32m   1099\u001b[0m \u001b[39m# this function, and just call forward.\u001b[39;00m\n\u001b[1;32m   1100\u001b[0m \u001b[39mif\u001b[39;00m \u001b[39mnot\u001b[39;00m (\u001b[39mself\u001b[39m\u001b[39m.\u001b[39m_backward_hooks \u001b[39mor\u001b[39;00m \u001b[39mself\u001b[39m\u001b[39m.\u001b[39m_forward_hooks \u001b[39mor\u001b[39;00m \u001b[39mself\u001b[39m\u001b[39m.\u001b[39m_forward_pre_hooks \u001b[39mor\u001b[39;00m _global_backward_hooks\n\u001b[1;32m   1101\u001b[0m         \u001b[39mor\u001b[39;00m _global_forward_hooks \u001b[39mor\u001b[39;00m _global_forward_pre_hooks):\n\u001b[0;32m-> 1102\u001b[0m     \u001b[39mreturn\u001b[39;00m forward_call(\u001b[39m*\u001b[39;49m\u001b[39minput\u001b[39;49m, \u001b[39m*\u001b[39;49m\u001b[39m*\u001b[39;49mkwargs)\n\u001b[1;32m   1103\u001b[0m \u001b[39m# Do not call functions when jit is used\u001b[39;00m\n\u001b[1;32m   1104\u001b[0m full_backward_hooks, non_full_backward_hooks \u001b[39m=\u001b[39m [], []\n",
      "\u001b[0;31mTypeError\u001b[0m: forward() missing 1 required positional argument: 'structure'"
     ]
    }
   ],
   "source": [
    "a = model(x.permute(0,2,1))\n",
    "print(a.shape)\n",
    "print(a.permute(0,2,1).shape)"
   ]
  },
  {
   "cell_type": "code",
   "execution_count": 3,
   "metadata": {},
   "outputs": [
    {
     "name": "stdout",
     "output_type": "stream",
     "text": [
      "MyData(edge_index=[2, 4], num_nodes=3, foo=[16])\n",
      "MyDataBatch(edge_index=[2, 8], num_nodes=6, foo=[2, 16], batch=[6], ptr=[3])\n"
     ]
    }
   ],
   "source": [
    "import torch\n",
    "from torch_geometric.data import Data\n",
    "from torch_geometric.loader import DataLoader\n",
    "\n",
    "class MyData(Data):\n",
    "    def __cat_dim__(self, key, value, *args, **kwargs):\n",
    "        if key == 'foo':\n",
    "            return None\n",
    "        return super().__cat_dim__(key, value, *args, **kwargs)\n",
    "\n",
    "class MyData(Data): \n",
    "    def __inc__(self, key, value, *args, **kwargs):\n",
    "        if 'index' in key:\n",
    "            return self.num_nodes\n",
    "        else:\n",
    "            return 0\n",
    "\n",
    "    def __cat_dim__(self, key, value, *args, **kwargs):\n",
    "        if 'index' in key:\n",
    "            return 1\n",
    "        else:\n",
    "            return 0    \n",
    "\n",
    "\n",
    "edge_index = torch.tensor([\n",
    "   [0, 1, 1, 2],\n",
    "   [1, 0, 2, 1],\n",
    "])\n",
    "foo = torch.randn(16)\n",
    "\n",
    "data = MyData(num_nodes=3, edge_index=edge_index, foo=foo)\n",
    "\n",
    "print(data)\n",
    "\n",
    "data_list = [data, data]\n",
    "loader = DataLoader(data_list, batch_size=2)\n",
    "batch = next(iter(loader))\n",
    "\n",
    "print(batch)\n"
   ]
  },
  {
   "cell_type": "code",
   "execution_count": 9,
   "metadata": {},
   "outputs": [
    {
     "name": "stderr",
     "output_type": "stream",
     "text": [
      "Downloading https://github.com/kimiyoung/planetoid/raw/master/data/ind.cora.x\n",
      "Downloading https://github.com/kimiyoung/planetoid/raw/master/data/ind.cora.tx\n",
      "Downloading https://github.com/kimiyoung/planetoid/raw/master/data/ind.cora.allx\n",
      "Downloading https://github.com/kimiyoung/planetoid/raw/master/data/ind.cora.y\n",
      "Downloading https://github.com/kimiyoung/planetoid/raw/master/data/ind.cora.ty\n",
      "Downloading https://github.com/kimiyoung/planetoid/raw/master/data/ind.cora.ally\n",
      "Downloading https://github.com/kimiyoung/planetoid/raw/master/data/ind.cora.graph\n",
      "Downloading https://github.com/kimiyoung/planetoid/raw/master/data/ind.cora.test.index\n",
      "Processing...\n",
      "Done!\n"
     ]
    }
   ],
   "source": [
    "from torch_geometric.datasets import Planetoid\n",
    "\n",
    "dataset = Planetoid(root='/tmp/Cora', name='Cora')"
   ]
  },
  {
   "cell_type": "code",
   "execution_count": null,
   "metadata": {},
   "outputs": [],
   "source": []
  },
  {
   "cell_type": "code",
   "execution_count": 12,
   "metadata": {},
   "outputs": [],
   "source": [
    "import torch\n",
    "import torch.nn.functional as F\n",
    "from torch_geometric.nn import GCNConv\n",
    "\n",
    "class GCN(torch.nn.Module):\n",
    "    def __init__(self):\n",
    "        super().__init__()\n",
    "        self.conv1 = GCNConv(dataset.num_node_features, 16)\n",
    "        self.conv2 = GCNConv(16, dataset.num_classes)\n",
    "\n",
    "    def forward(self, data):\n",
    "        x, edge_index = data.x, data.edge_index\n",
    "\n",
    "        x = self.conv1(x, edge_index)\n",
    "        x = F.relu(x)\n",
    "        x = F.dropout(x, training=self.training)\n",
    "        x = self.conv2(x, edge_index)\n",
    "\n",
    "        return F.log_softmax(x, dim=1)"
   ]
  },
  {
   "cell_type": "code",
   "execution_count": 17,
   "metadata": {},
   "outputs": [
    {
     "name": "stdout",
     "output_type": "stream",
     "text": [
      "GCN(\n",
      "  (conv1): GCNConv(1433, 16)\n",
      "  (conv2): GCNConv(16, 7)\n",
      ")\n"
     ]
    }
   ],
   "source": [
    "device = torch.device('cuda' if torch.cuda.is_available() else 'cpu')\n",
    "model = GCN().to(device)\n",
    "print(model)\n",
    "data = dataset[0].to(device)\n",
    "optimizer = torch.optim.Adam(model.parameters(), lr=0.01, weight_decay=5e-4)\n",
    "\n",
    "model.train()\n",
    "for epoch in range(200):\n",
    "    optimizer.zero_grad()\n",
    "    out = model(data)\n",
    "    loss = F.nll_loss(out[data.train_mask], data.y[data.train_mask])\n",
    "    loss.backward()\n",
    "    optimizer.step()"
   ]
  },
  {
   "cell_type": "code",
   "execution_count": 14,
   "metadata": {},
   "outputs": [
    {
     "name": "stdout",
     "output_type": "stream",
     "text": [
      "Accuracy: 0.7980\n"
     ]
    }
   ],
   "source": [
    "model.eval()\n",
    "pred = model(data).argmax(dim=1)\n",
    "correct = (pred[data.test_mask] == data.y[data.test_mask]).sum()\n",
    "acc = int(correct) / int(data.test_mask.sum())\n",
    "print(f'Accuracy: {acc:.4f}')\n",
    "# >>> Accuracy: 0.8150"
   ]
  },
  {
   "cell_type": "code",
   "execution_count": null,
   "metadata": {},
   "outputs": [],
   "source": []
  },
  {
   "cell_type": "code",
   "execution_count": 7,
   "metadata": {},
   "outputs": [],
   "source": [
    "import csv\n",
    "\n",
    "best_epoch = 10\n",
    "best_acc = 0.85\n",
    "best_auc = 0.92\n",
    "\n",
    "data = {\n",
    "    'bestepoch': str(best_epoch),\n",
    "    'acc': str(best_acc),\n",
    "    'auc': str(best_auc)\n",
    "}\n",
    "\n",
    "filename = 'model_stats.csv'\n",
    "file_exists = False\n",
    "try:\n",
    "    with open(filename, 'r') as csvfile:\n",
    "        reader = csv.reader(csvfile)\n",
    "        headers = next(reader)\n",
    "        if headers == ['bestepoch', 'acc', 'auc']:\n",
    "            file_exists = True\n",
    "except FileNotFoundError:\n",
    "    pass\n",
    "\n",
    "with open(filename, 'a', newline='') as csvfile:\n",
    "    writer = csv.DictWriter(csvfile, fieldnames=['bestepoch', 'acc', 'auc'])\n",
    "    if not file_exists:\n",
    "        writer.writeheader()\n",
    "    writer.writerow(data)"
   ]
  },
  {
   "cell_type": "code",
   "execution_count": 9,
   "metadata": {},
   "outputs": [
    {
     "data": {
      "text/plain": [
       "'1'"
      ]
     },
     "execution_count": 9,
     "metadata": {},
     "output_type": "execute_result"
    }
   ],
   "source": [
    "exp_id ='train_with_cnn_k3_1'\n",
    "exp_id.split('_')[-1]"
   ]
  },
  {
   "cell_type": "code",
   "execution_count": 12,
   "metadata": {},
   "outputs": [
    {
     "name": "stdout",
     "output_type": "stream",
     "text": [
      "t\n",
      "[1, 2, 3]\n",
      "[6, 7, 8]\n",
      "[[1, 2, 3]]\n",
      "[[1, 2, 3], [6, 7, 8]]\n"
     ]
    }
   ],
   "source": [
    "a = ['t', 1, 2, 3]\n",
    "print(a[0])\n",
    "print(a[1:])\n",
    "# for i in range(3):\n",
    "b = a[1:]\n",
    "c = [i + 5 for i in a[1:]]\n",
    "print(c)\n",
    "\n",
    "list = []\n",
    "list.append(b)\n",
    "print(list)\n",
    "list.append(c)\n",
    "print(list)\n",
    "\n",
    "ave_list = m"
   ]
  },
  {
   "cell_type": "code",
   "execution_count": 17,
   "metadata": {},
   "outputs": [
    {
     "data": {
      "text/plain": [
       "[3.5, 4.5, 5.5]"
      ]
     },
     "execution_count": 17,
     "metadata": {},
     "output_type": "execute_result"
    }
   ],
   "source": [
    "aves = [sum(column) / len(column) for column in zip(*list)]\n",
    "aves"
   ]
  },
  {
   "cell_type": "code",
   "execution_count": 20,
   "metadata": {},
   "outputs": [
    {
     "data": {
      "text/plain": [
       "array([[1, 2, 3],\n",
       "       [6, 7, 8]])"
      ]
     },
     "execution_count": 20,
     "metadata": {},
     "output_type": "execute_result"
    }
   ],
   "source": [
    "import numpy as np\n",
    "\n",
    "np.array(list)"
   ]
  },
  {
   "cell_type": "code",
   "execution_count": 9,
   "metadata": {},
   "outputs": [
    {
     "data": {
      "text/plain": [
       "'saved_models/acc_cnnk5.acc0.9.model_0'"
      ]
     },
     "execution_count": 9,
     "metadata": {},
     "output_type": "execute_result"
    }
   ],
   "source": [
    "import os\n",
    "import datetime\n",
    "\n",
    "\n",
    "def current_time():\n",
    "    return datetime.datetime.now().strftime(\"%Y-%m-%d_%H.%M.%S\")\n",
    "\n",
    "a = 'saved_models/acc_cnnk5.model_0'\n",
    "\n",
    "acc = 0.9\n",
    "\n",
    "b = a.replace('.', f'.acc{acc}.')\n",
    "\n",
    "b"
   ]
  },
  {
   "cell_type": "code",
   "execution_count": 2,
   "metadata": {},
   "outputs": [
    {
     "name": "stdout",
     "output_type": "stream",
     "text": [
      "Shuffled array1: ['B' 'E' 'C' 'A' 'D']\n",
      "Shuffled array2: [2 5 3 1 4]\n"
     ]
    }
   ],
   "source": [
    "import numpy as np\n",
    "\n",
    "# 假设有两个一一对应的数组\n",
    "array1 = np.array(['A', 'B', 'C', 'D', 'E'])\n",
    "array2 = np.array([1, 2, 3, 4, 5])\n",
    "\n",
    "# 设置随机种子\n",
    "random_seed = 42\n",
    "np.random.seed(random_seed)\n",
    "\n",
    "# 创建随机索引数组\n",
    "random_indices = np.random.permutation(len(array1))\n",
    "\n",
    "# 使用随机索引数组对两个数组进行索引\n",
    "shuffled_array1 = array1[random_indices]\n",
    "shuffled_array2 = array2[random_indices]\n",
    "\n",
    "# 打印结果\n",
    "print(\"Shuffled array1:\", shuffled_array1)\n",
    "print(\"Shuffled array2:\", shuffled_array2)"
   ]
  },
  {
   "cell_type": "code",
   "execution_count": 9,
   "metadata": {},
   "outputs": [
    {
     "name": "stdout",
     "output_type": "stream",
     "text": [
      "1\n"
     ]
    }
   ],
   "source": [
    "k_fold = False\n",
    "\n",
    "if not k_fold:\n",
    "    print('1')"
   ]
  },
  {
   "cell_type": "code",
   "execution_count": 15,
   "metadata": {},
   "outputs": [
    {
     "data": {
      "text/plain": [
       "(['>LAMP_L08AP00018', '>LAMP_L06AT00005'],\n",
       " ['KWKSFIKKLTSKALHSAKKF', 'RVCESQSHGFKGACTGDHNCALVCRNEGFSGGNCRGFRRRCFCTLKC'],\n",
       " array([1., 1.]))"
      ]
     },
     "execution_count": 15,
     "metadata": {},
     "output_type": "execute_result"
    }
   ],
   "source": [
    "import re\n",
    "\n",
    "def load_cv_seqs(fasta_file, task):\n",
    "    seq_ids = []\n",
    "    seqs = []\n",
    "    labels = []\n",
    "    pattern = re.compile('[^ARNDCQEGHILKMFPSTWYV]')\n",
    "    \n",
    "    with open(fasta_file, 'r') as f:\n",
    "        lines = f.readlines()\n",
    "        for line in lines:\n",
    "            line = line.strip()\n",
    "            \n",
    "            if line[0] == '>':\n",
    "                id = line.split('|')[0]\n",
    "                label = line.split('|')[1]\n",
    "                seq_ids.append(id)\n",
    "                labels.append(label)\n",
    "                \n",
    "            elif len(pattern.findall(line)) == 0:\n",
    "                seqs.append(line)\n",
    "                \n",
    "    labels = np.array([float(x) for x in labels])\n",
    "    \n",
    "    return seq_ids, seqs, labels\n",
    "                \n",
    "load_cv_seqs('/home/cnj/cs/test_methods/cross_val/10_fold_cnnk3_gat_2023-12-11_17.46.53/data/1_fold/test.fasta', 'cls')"
   ]
  },
  {
   "cell_type": "code",
   "execution_count": 3,
   "metadata": {},
   "outputs": [],
   "source": [
    "import torch\n",
    "import torch.nn as nn\n",
    "\n",
    "class MLP(nn.Module):\n",
    "    def __init__(self, input_size, hidden_size, num_classes):\n",
    "        super(MLP, self).__init__()\n",
    "        self.fc1 = nn.Linear(input_size, hidden_size)\n",
    "        self.fc2 = nn.Linear(hidden_size, num_classes)\n",
    "        self.sigmoid = nn.Sigmoid()\n",
    "\n",
    "    def forward(self, x):\n",
    "        x = self.fc1(x)\n",
    "        x = torch.relu(x)\n",
    "        x = self.fc2(x)\n",
    "        x = self.sigmoid(x)\n",
    "        return x\n",
    "\n",
    "input_size = 10  # 输入特征的维度\n",
    "hidden_size = 20  # 隐层的大小\n",
    "num_classes = 5  # 标签的数量\n",
    "\n",
    "model = MLP(input_size, hidden_size, num_classes)\n",
    "\n",
    "# 假设有样本 x，维度为 (batch_size, input_size)\n",
    "x = torch.randn(4, input_size)\n",
    "\n",
    "# 模型预测\n",
    "pred = model(x)\n"
   ]
  },
  {
   "cell_type": "code",
   "execution_count": 4,
   "metadata": {},
   "outputs": [
    {
     "data": {
      "text/plain": [
       "torch.Size([4, 5])"
      ]
     },
     "execution_count": 4,
     "metadata": {},
     "output_type": "execute_result"
    }
   ],
   "source": [
    "pred.shape"
   ]
  },
  {
   "cell_type": "code",
   "execution_count": 5,
   "metadata": {},
   "outputs": [
    {
     "data": {
      "text/plain": [
       "tensor([[0.5236, 0.3663, 0.4891, 0.5220, 0.4483],\n",
       "        [0.5523, 0.3516, 0.3741, 0.3994, 0.4935],\n",
       "        [0.4650, 0.4224, 0.4386, 0.3916, 0.4833],\n",
       "        [0.5146, 0.4080, 0.3521, 0.3790, 0.4040]], grad_fn=<SigmoidBackward0>)"
      ]
     },
     "execution_count": 5,
     "metadata": {},
     "output_type": "execute_result"
    }
   ],
   "source": [
    "pred"
   ]
  },
  {
   "cell_type": "code",
   "execution_count": 8,
   "metadata": {},
   "outputs": [
    {
     "name": "stdout",
     "output_type": "stream",
     "text": [
      "[1, 1, 0]\n"
     ]
    }
   ],
   "source": [
    "bacteria = ['E. coli', 'S. aureus', 'P. aeruginosa']\n",
    "bac = ['E. coli', 'S. aureus']\n",
    "\n",
    "output = [1 if b in bac else 0 for b in bacteria]\n",
    "\n",
    "print(output)\n"
   ]
  },
  {
   "cell_type": "code",
   "execution_count": 11,
   "metadata": {},
   "outputs": [],
   "source": [
    "from skmultilearn.dataset import load_dataset\n",
    "from collections import Counter\n",
    "import pandas as pd"
   ]
  },
  {
   "cell_type": "code",
   "execution_count": 4,
   "metadata": {},
   "outputs": [
    {
     "name": "stdout",
     "output_type": "stream",
     "text": [
      "scene:undivided - does not exists downloading\n",
      "Downloaded scene-undivided\n"
     ]
    }
   ],
   "source": [
    "X,y, _, _ = load_dataset('scene', 'undivided')\n"
   ]
  },
  {
   "cell_type": "code",
   "execution_count": 12,
   "metadata": {},
   "outputs": [
    {
     "data": {
      "text/plain": [
       "Counter({(4, 4): 533,\n",
       "         (0, 4): 38,\n",
       "         (0, 0): 427,\n",
       "         (5, 5): 431,\n",
       "         (0, 5): 19,\n",
       "         (1, 1): 364,\n",
       "         (2, 2): 397,\n",
       "         (2, 3): 24,\n",
       "         (3, 3): 433,\n",
       "         (2, 4): 14,\n",
       "         (3, 4): 76,\n",
       "         (4, 5): 1,\n",
       "         (3, 5): 6,\n",
       "         (0, 3): 1})"
      ]
     },
     "execution_count": 12,
     "metadata": {},
     "output_type": "execute_result"
    }
   ],
   "source": [
    "from skmultilearn.model_selection.measures import get_combination_wise_output_matrix\n",
    "Counter(combination for row in get_combination_wise_output_matrix(y.A, order=2) for combination in row)"
   ]
  },
  {
   "cell_type": "code",
   "execution_count": 13,
   "metadata": {},
   "outputs": [
    {
     "name": "stdout",
     "output_type": "stream",
     "text": [
      "scene:train - exists, not redownloading\n",
      "scene:test - exists, not redownloading\n"
     ]
    },
    {
     "data": {
      "text/plain": [
       "array([list([1, 1]), list([1, 1]), list([1]), ..., list([1]), list([1]),\n",
       "       list([1])], dtype=object)"
      ]
     },
     "execution_count": 13,
     "metadata": {},
     "output_type": "execute_result"
    }
   ],
   "source": [
    "_, original_y_train, _, _ = load_dataset('scene', 'train')\n",
    "_, original_y_test, _, _ = load_dataset('scene', 'test')\n",
    "\n",
    "original_y_train.data"
   ]
  },
  {
   "cell_type": "code",
   "execution_count": 14,
   "metadata": {},
   "outputs": [
    {
     "data": {
      "text/html": [
       "<div>\n",
       "<style scoped>\n",
       "    .dataframe tbody tr th:only-of-type {\n",
       "        vertical-align: middle;\n",
       "    }\n",
       "\n",
       "    .dataframe tbody tr th {\n",
       "        vertical-align: top;\n",
       "    }\n",
       "\n",
       "    .dataframe thead th {\n",
       "        text-align: right;\n",
       "    }\n",
       "</style>\n",
       "<table border=\"1\" class=\"dataframe\">\n",
       "  <thead>\n",
       "    <tr style=\"text-align: right;\">\n",
       "      <th></th>\n",
       "      <th>(4, 4)</th>\n",
       "      <th>(0, 4)</th>\n",
       "      <th>(0, 0)</th>\n",
       "      <th>(5, 5)</th>\n",
       "      <th>(0, 5)</th>\n",
       "      <th>(1, 1)</th>\n",
       "      <th>(2, 2)</th>\n",
       "      <th>(2, 3)</th>\n",
       "      <th>(3, 3)</th>\n",
       "      <th>(2, 4)</th>\n",
       "      <th>(3, 4)</th>\n",
       "      <th>(4, 5)</th>\n",
       "      <th>(3, 5)</th>\n",
       "      <th>(0, 3)</th>\n",
       "    </tr>\n",
       "  </thead>\n",
       "  <tbody>\n",
       "    <tr>\n",
       "      <th>train</th>\n",
       "      <td>277.0</td>\n",
       "      <td>21.0</td>\n",
       "      <td>227.0</td>\n",
       "      <td>224.0</td>\n",
       "      <td>12.0</td>\n",
       "      <td>165.0</td>\n",
       "      <td>197.0</td>\n",
       "      <td>8.0</td>\n",
       "      <td>196.0</td>\n",
       "      <td>6.0</td>\n",
       "      <td>27.0</td>\n",
       "      <td>1.0</td>\n",
       "      <td>1.0</td>\n",
       "      <td>0.0</td>\n",
       "    </tr>\n",
       "    <tr>\n",
       "      <th>test</th>\n",
       "      <td>256.0</td>\n",
       "      <td>17.0</td>\n",
       "      <td>200.0</td>\n",
       "      <td>207.0</td>\n",
       "      <td>7.0</td>\n",
       "      <td>199.0</td>\n",
       "      <td>200.0</td>\n",
       "      <td>16.0</td>\n",
       "      <td>237.0</td>\n",
       "      <td>8.0</td>\n",
       "      <td>49.0</td>\n",
       "      <td>0.0</td>\n",
       "      <td>5.0</td>\n",
       "      <td>1.0</td>\n",
       "    </tr>\n",
       "  </tbody>\n",
       "</table>\n",
       "</div>"
      ],
      "text/plain": [
       "       (4, 4)  (0, 4)  (0, 0)  (5, 5)  (0, 5)  (1, 1)  (2, 2)  (2, 3)  (3, 3)  \\\n",
       "train   277.0    21.0   227.0   224.0    12.0   165.0   197.0     8.0   196.0   \n",
       "test    256.0    17.0   200.0   207.0     7.0   199.0   200.0    16.0   237.0   \n",
       "\n",
       "       (2, 4)  (3, 4)  (4, 5)  (3, 5)  (0, 3)  \n",
       "train     6.0    27.0     1.0     1.0     0.0  \n",
       "test      8.0    49.0     0.0     5.0     1.0  "
      ]
     },
     "execution_count": 14,
     "metadata": {},
     "output_type": "execute_result"
    }
   ],
   "source": [
    "pd.DataFrame({\n",
    "    'train': Counter(str(combination) for row in get_combination_wise_output_matrix(original_y_train.A, order=2) for combination in row),\n",
    "    'test' : Counter(str(combination) for row in get_combination_wise_output_matrix(original_y_test.A, order=2) for combination in row)\n",
    "}).T.fillna(0.0)"
   ]
  },
  {
   "cell_type": "code",
   "execution_count": null,
   "metadata": {},
   "outputs": [],
   "source": [
    "."
   ]
  },
  {
   "cell_type": "code",
   "execution_count": 15,
   "metadata": {},
   "outputs": [],
   "source": [
    "\n",
    "from skmultilearn.model_selection import iterative_train_test_split\n",
    "X_train, y_train, X_test, y_test = iterative_train_test_split(X, y, test_size = 0.5)"
   ]
  },
  {
   "cell_type": "code",
   "execution_count": 16,
   "metadata": {},
   "outputs": [
    {
     "data": {
      "text/html": [
       "<div>\n",
       "<style scoped>\n",
       "    .dataframe tbody tr th:only-of-type {\n",
       "        vertical-align: middle;\n",
       "    }\n",
       "\n",
       "    .dataframe tbody tr th {\n",
       "        vertical-align: top;\n",
       "    }\n",
       "\n",
       "    .dataframe thead th {\n",
       "        text-align: right;\n",
       "    }\n",
       "</style>\n",
       "<table border=\"1\" class=\"dataframe\">\n",
       "  <thead>\n",
       "    <tr style=\"text-align: right;\">\n",
       "      <th></th>\n",
       "      <th>(5, 5)</th>\n",
       "      <th>(0, 5)</th>\n",
       "      <th>(0, 0)</th>\n",
       "      <th>(4, 4)</th>\n",
       "      <th>(0, 4)</th>\n",
       "      <th>(1, 1)</th>\n",
       "      <th>(2, 2)</th>\n",
       "      <th>(2, 3)</th>\n",
       "      <th>(3, 3)</th>\n",
       "      <th>(2, 4)</th>\n",
       "      <th>(3, 4)</th>\n",
       "      <th>(4, 5)</th>\n",
       "      <th>(3, 5)</th>\n",
       "      <th>(0, 3)</th>\n",
       "    </tr>\n",
       "  </thead>\n",
       "  <tbody>\n",
       "    <tr>\n",
       "      <th>train</th>\n",
       "      <td>215.0</td>\n",
       "      <td>10.0</td>\n",
       "      <td>214.0</td>\n",
       "      <td>267.0</td>\n",
       "      <td>19.0</td>\n",
       "      <td>182.0</td>\n",
       "      <td>198.0</td>\n",
       "      <td>12.0</td>\n",
       "      <td>217.0</td>\n",
       "      <td>7.0</td>\n",
       "      <td>38.0</td>\n",
       "      <td>1.0</td>\n",
       "      <td>3.0</td>\n",
       "      <td>1.0</td>\n",
       "    </tr>\n",
       "    <tr>\n",
       "      <th>test</th>\n",
       "      <td>216.0</td>\n",
       "      <td>9.0</td>\n",
       "      <td>213.0</td>\n",
       "      <td>266.0</td>\n",
       "      <td>19.0</td>\n",
       "      <td>182.0</td>\n",
       "      <td>199.0</td>\n",
       "      <td>12.0</td>\n",
       "      <td>216.0</td>\n",
       "      <td>7.0</td>\n",
       "      <td>38.0</td>\n",
       "      <td>0.0</td>\n",
       "      <td>3.0</td>\n",
       "      <td>0.0</td>\n",
       "    </tr>\n",
       "  </tbody>\n",
       "</table>\n",
       "</div>"
      ],
      "text/plain": [
       "       (5, 5)  (0, 5)  (0, 0)  (4, 4)  (0, 4)  (1, 1)  (2, 2)  (2, 3)  (3, 3)  \\\n",
       "train   215.0    10.0   214.0   267.0    19.0   182.0   198.0    12.0   217.0   \n",
       "test    216.0     9.0   213.0   266.0    19.0   182.0   199.0    12.0   216.0   \n",
       "\n",
       "       (2, 4)  (3, 4)  (4, 5)  (3, 5)  (0, 3)  \n",
       "train     7.0    38.0     1.0     3.0     1.0  \n",
       "test      7.0    38.0     0.0     3.0     0.0  "
      ]
     },
     "execution_count": 16,
     "metadata": {},
     "output_type": "execute_result"
    }
   ],
   "source": [
    "pd.DataFrame({\n",
    "    'train': Counter(str(combination) for row in get_combination_wise_output_matrix(y_train.A, order=2) for combination in row),\n",
    "    'test' : Counter(str(combination) for row in get_combination_wise_output_matrix(y_test.A, order=2) for combination in row)\n",
    "}).T.fillna(0.0)"
   ]
  },
  {
   "cell_type": "code",
   "execution_count": null,
   "metadata": {},
   "outputs": [],
   "source": [
    "."
   ]
  },
  {
   "cell_type": "code",
   "execution_count": null,
   "metadata": {},
   "outputs": [],
   "source": [
    "import numpy as np\n",
    "from sklearn.model_selection import StratifiedShuffleSplit"
   ]
  },
  {
   "cell_type": "code",
   "execution_count": 4,
   "metadata": {},
   "outputs": [
    {
     "name": "stdout",
     "output_type": "stream",
     "text": [
      "Num of fasta seqs is 5.0\n"
     ]
    }
   ],
   "source": [
    "import os\n",
    "\n",
    "input_fasta = '/home/cnj/cs/test_methods/data/mul_label_data/multilabel_demo.fasta'\n",
    "sa3m_folder = '/home/cnj/cs/test_methods/data/mul_label_data/single_a3m/'\n",
    "\n",
    "ids = []\n",
    "seqs = []\n",
    "with open(input_fasta, 'r') as f:\n",
    "    lines = f.readlines()\n",
    "    print(f'Num of fasta seqs is {len(lines)/2}')\n",
    "    for line in lines:\n",
    "            line = line.strip()\n",
    "            if line[0] == '>':\n",
    "                ids.append(line)\n",
    "            else:\n",
    "                seqs.append(line)\n",
    "                \n",
    "    if not os.path.exists(sa3m_folder):\n",
    "        os.makedirs(sa3m_folder)\n",
    "        \n",
    "    for f in os.listdir(sa3m_folder):\n",
    "        os.remove(sa3m_folder + f)\n",
    "        \n",
    "    for i in range(len(ids)):\n",
    "        name = ids[i]\n",
    "        fname = name.replace('|', '_')[1:]\n",
    "        seq = seqs[i]\n",
    "        with open(sa3m_folder + fname + '.a3m', 'w') as f:\n",
    "            f.write(name + '\\n')\n",
    "            f.write(seq)"
   ]
  },
  {
   "cell_type": "code",
   "execution_count": 5,
   "metadata": {},
   "outputs": [
    {
     "name": "stdout",
     "output_type": "stream",
     "text": [
      "Total number of lines: 686\n",
      "Total number of lines: 6161\n",
      "Total number of lines: 10479\n"
     ]
    }
   ],
   "source": [
    "\n",
    "\n",
    "\n",
    "def count(f):\n",
    "    line_count = 0\n",
    "    with open(f, 'r') as file:\n",
    "        for line in file:\n",
    "            line_count += 1\n",
    "\n",
    "    print(\"Total number of lines:\", line_count)\n",
    "    \n",
    "count('/home/cnj/cs/test_methods/data/mll_func/multiAMP_test.csv')\n",
    "count('/home/cnj/cs/test_methods/data/mll_func/multiAMP_train.csv')\n",
    "count('/home/cnj/cs/test_methods/data/mll_func/PAAC.tsv')"
   ]
  },
  {
   "cell_type": "code",
   "execution_count": 4,
   "metadata": {},
   "outputs": [
    {
     "data": {
      "text/html": [
       "<div>\n",
       "<style scoped>\n",
       "    .dataframe tbody tr th:only-of-type {\n",
       "        vertical-align: middle;\n",
       "    }\n",
       "\n",
       "    .dataframe tbody tr th {\n",
       "        vertical-align: top;\n",
       "    }\n",
       "\n",
       "    .dataframe thead th {\n",
       "        text-align: right;\n",
       "    }\n",
       "</style>\n",
       "<table border=\"1\" class=\"dataframe\">\n",
       "  <thead>\n",
       "    <tr style=\"text-align: right;\">\n",
       "      <th></th>\n",
       "      <th>id</th>\n",
       "      <th>sequence</th>\n",
       "      <th>Antibacterial</th>\n",
       "      <th>MammalianCells</th>\n",
       "      <th>Antifungal</th>\n",
       "      <th>Antiviral</th>\n",
       "      <th>Anticancer</th>\n",
       "      <th>Antiparasitic</th>\n",
       "    </tr>\n",
       "  </thead>\n",
       "  <tbody>\n",
       "    <tr>\n",
       "      <th>0</th>\n",
       "      <td>dbAMP_18382</td>\n",
       "      <td>KKLGLCLGLKK</td>\n",
       "      <td>1</td>\n",
       "      <td>1</td>\n",
       "      <td>0</td>\n",
       "      <td>0</td>\n",
       "      <td>1</td>\n",
       "      <td>0</td>\n",
       "    </tr>\n",
       "    <tr>\n",
       "      <th>1</th>\n",
       "      <td>dbAMP_21204</td>\n",
       "      <td>KLPKLLKKLLKLLK</td>\n",
       "      <td>1</td>\n",
       "      <td>1</td>\n",
       "      <td>0</td>\n",
       "      <td>0</td>\n",
       "      <td>0</td>\n",
       "      <td>0</td>\n",
       "    </tr>\n",
       "    <tr>\n",
       "      <th>2</th>\n",
       "      <td>dbAMP_18425</td>\n",
       "      <td>GFGCNGPWDEDDMKCHNHCKTIKGYKGGYCASAGFVCKCY</td>\n",
       "      <td>1</td>\n",
       "      <td>0</td>\n",
       "      <td>0</td>\n",
       "      <td>0</td>\n",
       "      <td>0</td>\n",
       "      <td>0</td>\n",
       "    </tr>\n",
       "    <tr>\n",
       "      <th>3</th>\n",
       "      <td>dbAMP_05713</td>\n",
       "      <td>LEYKGECFTKDNTCKYKIDGKTYLAKCPSAANTKCEKDGNKCTYDS...</td>\n",
       "      <td>0</td>\n",
       "      <td>0</td>\n",
       "      <td>1</td>\n",
       "      <td>0</td>\n",
       "      <td>0</td>\n",
       "      <td>0</td>\n",
       "    </tr>\n",
       "    <tr>\n",
       "      <th>4</th>\n",
       "      <td>dbAMP_15569</td>\n",
       "      <td>FVKLKKIANIINSIFKK</td>\n",
       "      <td>0</td>\n",
       "      <td>1</td>\n",
       "      <td>1</td>\n",
       "      <td>0</td>\n",
       "      <td>1</td>\n",
       "      <td>0</td>\n",
       "    </tr>\n",
       "    <tr>\n",
       "      <th>...</th>\n",
       "      <td>...</td>\n",
       "      <td>...</td>\n",
       "      <td>...</td>\n",
       "      <td>...</td>\n",
       "      <td>...</td>\n",
       "      <td>...</td>\n",
       "      <td>...</td>\n",
       "      <td>...</td>\n",
       "    </tr>\n",
       "    <tr>\n",
       "      <th>680</th>\n",
       "      <td>dbAMP_16207</td>\n",
       "      <td>FKRIHQRIKDFLR</td>\n",
       "      <td>1</td>\n",
       "      <td>1</td>\n",
       "      <td>0</td>\n",
       "      <td>0</td>\n",
       "      <td>0</td>\n",
       "      <td>0</td>\n",
       "    </tr>\n",
       "    <tr>\n",
       "      <th>681</th>\n",
       "      <td>dbAMP_04747</td>\n",
       "      <td>ILPFLAGLFSKIL</td>\n",
       "      <td>1</td>\n",
       "      <td>0</td>\n",
       "      <td>1</td>\n",
       "      <td>1</td>\n",
       "      <td>0</td>\n",
       "      <td>0</td>\n",
       "    </tr>\n",
       "    <tr>\n",
       "      <th>682</th>\n",
       "      <td>dbAMP_16054</td>\n",
       "      <td>KRIRKRIKKWKR</td>\n",
       "      <td>1</td>\n",
       "      <td>1</td>\n",
       "      <td>0</td>\n",
       "      <td>0</td>\n",
       "      <td>0</td>\n",
       "      <td>0</td>\n",
       "    </tr>\n",
       "    <tr>\n",
       "      <th>683</th>\n",
       "      <td>dbAMP_17719</td>\n",
       "      <td>VDKGRYLEAPTPPRPIYNRN</td>\n",
       "      <td>1</td>\n",
       "      <td>0</td>\n",
       "      <td>0</td>\n",
       "      <td>0</td>\n",
       "      <td>0</td>\n",
       "      <td>0</td>\n",
       "    </tr>\n",
       "    <tr>\n",
       "      <th>684</th>\n",
       "      <td>dbAMP_14795</td>\n",
       "      <td>KWKLFKKIPHLAKKF</td>\n",
       "      <td>1</td>\n",
       "      <td>1</td>\n",
       "      <td>0</td>\n",
       "      <td>0</td>\n",
       "      <td>1</td>\n",
       "      <td>0</td>\n",
       "    </tr>\n",
       "  </tbody>\n",
       "</table>\n",
       "<p>685 rows × 8 columns</p>\n",
       "</div>"
      ],
      "text/plain": [
       "              id                                           sequence  \\\n",
       "0    dbAMP_18382                                        KKLGLCLGLKK   \n",
       "1    dbAMP_21204                                     KLPKLLKKLLKLLK   \n",
       "2    dbAMP_18425           GFGCNGPWDEDDMKCHNHCKTIKGYKGGYCASAGFVCKCY   \n",
       "3    dbAMP_05713  LEYKGECFTKDNTCKYKIDGKTYLAKCPSAANTKCEKDGNKCTYDS...   \n",
       "4    dbAMP_15569                                  FVKLKKIANIINSIFKK   \n",
       "..           ...                                                ...   \n",
       "680  dbAMP_16207                                      FKRIHQRIKDFLR   \n",
       "681  dbAMP_04747                                      ILPFLAGLFSKIL   \n",
       "682  dbAMP_16054                                       KRIRKRIKKWKR   \n",
       "683  dbAMP_17719                               VDKGRYLEAPTPPRPIYNRN   \n",
       "684  dbAMP_14795                                    KWKLFKKIPHLAKKF   \n",
       "\n",
       "     Antibacterial  MammalianCells  Antifungal  Antiviral  Anticancer  \\\n",
       "0                1               1           0          0           1   \n",
       "1                1               1           0          0           0   \n",
       "2                1               0           0          0           0   \n",
       "3                0               0           1          0           0   \n",
       "4                0               1           1          0           1   \n",
       "..             ...             ...         ...        ...         ...   \n",
       "680              1               1           0          0           0   \n",
       "681              1               0           1          1           0   \n",
       "682              1               1           0          0           0   \n",
       "683              1               0           0          0           0   \n",
       "684              1               1           0          0           1   \n",
       "\n",
       "     Antiparasitic  \n",
       "0                0  \n",
       "1                0  \n",
       "2                0  \n",
       "3                0  \n",
       "4                0  \n",
       "..             ...  \n",
       "680              0  \n",
       "681              0  \n",
       "682              0  \n",
       "683              0  \n",
       "684              0  \n",
       "\n",
       "[685 rows x 8 columns]"
      ]
     },
     "execution_count": 4,
     "metadata": {},
     "output_type": "execute_result"
    }
   ],
   "source": [
    "import pandas as pd\n",
    "\n",
    "df = pd.read_csv('/home/cnj/cs/test_methods/data/mll_func/test.csv', encoding='utf8')\n",
    "df"
   ]
  },
  {
   "cell_type": "code",
   "execution_count": 5,
   "metadata": {},
   "outputs": [
    {
     "data": {
      "text/html": [
       "<div>\n",
       "<style scoped>\n",
       "    .dataframe tbody tr th:only-of-type {\n",
       "        vertical-align: middle;\n",
       "    }\n",
       "\n",
       "    .dataframe tbody tr th {\n",
       "        vertical-align: top;\n",
       "    }\n",
       "\n",
       "    .dataframe thead th {\n",
       "        text-align: right;\n",
       "    }\n",
       "</style>\n",
       "<table border=\"1\" class=\"dataframe\">\n",
       "  <thead>\n",
       "    <tr style=\"text-align: right;\">\n",
       "      <th></th>\n",
       "      <th>id</th>\n",
       "      <th>sequence</th>\n",
       "      <th>Antibacterial</th>\n",
       "      <th>MammalianCells</th>\n",
       "      <th>Antifungal</th>\n",
       "      <th>Antiviral</th>\n",
       "      <th>Anticancer</th>\n",
       "    </tr>\n",
       "  </thead>\n",
       "  <tbody>\n",
       "    <tr>\n",
       "      <th>0</th>\n",
       "      <td>dbAMP_18382</td>\n",
       "      <td>KKLGLCLGLKK</td>\n",
       "      <td>1</td>\n",
       "      <td>1</td>\n",
       "      <td>0</td>\n",
       "      <td>0</td>\n",
       "      <td>1</td>\n",
       "    </tr>\n",
       "    <tr>\n",
       "      <th>1</th>\n",
       "      <td>dbAMP_21204</td>\n",
       "      <td>KLPKLLKKLLKLLK</td>\n",
       "      <td>1</td>\n",
       "      <td>1</td>\n",
       "      <td>0</td>\n",
       "      <td>0</td>\n",
       "      <td>0</td>\n",
       "    </tr>\n",
       "    <tr>\n",
       "      <th>2</th>\n",
       "      <td>dbAMP_18425</td>\n",
       "      <td>GFGCNGPWDEDDMKCHNHCKTIKGYKGGYCASAGFVCKCY</td>\n",
       "      <td>1</td>\n",
       "      <td>0</td>\n",
       "      <td>0</td>\n",
       "      <td>0</td>\n",
       "      <td>0</td>\n",
       "    </tr>\n",
       "    <tr>\n",
       "      <th>3</th>\n",
       "      <td>dbAMP_05713</td>\n",
       "      <td>LEYKGECFTKDNTCKYKIDGKTYLAKCPSAANTKCEKDGNKCTYDS...</td>\n",
       "      <td>0</td>\n",
       "      <td>0</td>\n",
       "      <td>1</td>\n",
       "      <td>0</td>\n",
       "      <td>0</td>\n",
       "    </tr>\n",
       "    <tr>\n",
       "      <th>4</th>\n",
       "      <td>dbAMP_15569</td>\n",
       "      <td>FVKLKKIANIINSIFKK</td>\n",
       "      <td>0</td>\n",
       "      <td>1</td>\n",
       "      <td>1</td>\n",
       "      <td>0</td>\n",
       "      <td>1</td>\n",
       "    </tr>\n",
       "    <tr>\n",
       "      <th>...</th>\n",
       "      <td>...</td>\n",
       "      <td>...</td>\n",
       "      <td>...</td>\n",
       "      <td>...</td>\n",
       "      <td>...</td>\n",
       "      <td>...</td>\n",
       "      <td>...</td>\n",
       "    </tr>\n",
       "    <tr>\n",
       "      <th>680</th>\n",
       "      <td>dbAMP_16207</td>\n",
       "      <td>FKRIHQRIKDFLR</td>\n",
       "      <td>1</td>\n",
       "      <td>1</td>\n",
       "      <td>0</td>\n",
       "      <td>0</td>\n",
       "      <td>0</td>\n",
       "    </tr>\n",
       "    <tr>\n",
       "      <th>681</th>\n",
       "      <td>dbAMP_04747</td>\n",
       "      <td>ILPFLAGLFSKIL</td>\n",
       "      <td>1</td>\n",
       "      <td>0</td>\n",
       "      <td>1</td>\n",
       "      <td>1</td>\n",
       "      <td>0</td>\n",
       "    </tr>\n",
       "    <tr>\n",
       "      <th>682</th>\n",
       "      <td>dbAMP_16054</td>\n",
       "      <td>KRIRKRIKKWKR</td>\n",
       "      <td>1</td>\n",
       "      <td>1</td>\n",
       "      <td>0</td>\n",
       "      <td>0</td>\n",
       "      <td>0</td>\n",
       "    </tr>\n",
       "    <tr>\n",
       "      <th>683</th>\n",
       "      <td>dbAMP_17719</td>\n",
       "      <td>VDKGRYLEAPTPPRPIYNRN</td>\n",
       "      <td>1</td>\n",
       "      <td>0</td>\n",
       "      <td>0</td>\n",
       "      <td>0</td>\n",
       "      <td>0</td>\n",
       "    </tr>\n",
       "    <tr>\n",
       "      <th>684</th>\n",
       "      <td>dbAMP_14795</td>\n",
       "      <td>KWKLFKKIPHLAKKF</td>\n",
       "      <td>1</td>\n",
       "      <td>1</td>\n",
       "      <td>0</td>\n",
       "      <td>0</td>\n",
       "      <td>1</td>\n",
       "    </tr>\n",
       "  </tbody>\n",
       "</table>\n",
       "<p>685 rows × 7 columns</p>\n",
       "</div>"
      ],
      "text/plain": [
       "              id                                           sequence  \\\n",
       "0    dbAMP_18382                                        KKLGLCLGLKK   \n",
       "1    dbAMP_21204                                     KLPKLLKKLLKLLK   \n",
       "2    dbAMP_18425           GFGCNGPWDEDDMKCHNHCKTIKGYKGGYCASAGFVCKCY   \n",
       "3    dbAMP_05713  LEYKGECFTKDNTCKYKIDGKTYLAKCPSAANTKCEKDGNKCTYDS...   \n",
       "4    dbAMP_15569                                  FVKLKKIANIINSIFKK   \n",
       "..           ...                                                ...   \n",
       "680  dbAMP_16207                                      FKRIHQRIKDFLR   \n",
       "681  dbAMP_04747                                      ILPFLAGLFSKIL   \n",
       "682  dbAMP_16054                                       KRIRKRIKKWKR   \n",
       "683  dbAMP_17719                               VDKGRYLEAPTPPRPIYNRN   \n",
       "684  dbAMP_14795                                    KWKLFKKIPHLAKKF   \n",
       "\n",
       "     Antibacterial  MammalianCells  Antifungal  Antiviral  Anticancer  \n",
       "0                1               1           0          0           1  \n",
       "1                1               1           0          0           0  \n",
       "2                1               0           0          0           0  \n",
       "3                0               0           1          0           0  \n",
       "4                0               1           1          0           1  \n",
       "..             ...             ...         ...        ...         ...  \n",
       "680              1               1           0          0           0  \n",
       "681              1               0           1          1           0  \n",
       "682              1               1           0          0           0  \n",
       "683              1               0           0          0           0  \n",
       "684              1               1           0          0           1  \n",
       "\n",
       "[685 rows x 7 columns]"
      ]
     },
     "execution_count": 5,
     "metadata": {},
     "output_type": "execute_result"
    }
   ],
   "source": [
    "# df = df.drop(df.columns[2], axis=1)\n",
    "df = df.drop(df.columns[7:], axis=1)\n",
    "df\n"
   ]
  },
  {
   "cell_type": "code",
   "execution_count": 6,
   "metadata": {},
   "outputs": [],
   "source": [
    "df.to_csv('/home/cnj/cs/test_methods/data/mll_func/test.csv', index=False)"
   ]
  },
  {
   "cell_type": "code",
   "execution_count": 15,
   "metadata": {},
   "outputs": [
    {
     "data": {
      "text/html": [
       "<div>\n",
       "<style scoped>\n",
       "    .dataframe tbody tr th:only-of-type {\n",
       "        vertical-align: middle;\n",
       "    }\n",
       "\n",
       "    .dataframe tbody tr th {\n",
       "        vertical-align: top;\n",
       "    }\n",
       "\n",
       "    .dataframe thead th {\n",
       "        text-align: right;\n",
       "    }\n",
       "</style>\n",
       "<table border=\"1\" class=\"dataframe\">\n",
       "  <thead>\n",
       "    <tr style=\"text-align: right;\">\n",
       "      <th></th>\n",
       "      <th>ID</th>\n",
       "      <th>sequence</th>\n",
       "      <th>is_validated</th>\n",
       "      <th>Antibacterial</th>\n",
       "      <th>MammalianCells</th>\n",
       "      <th>Antifungal</th>\n",
       "      <th>Antiviral</th>\n",
       "      <th>Anticancer</th>\n",
       "      <th>Antiparasitic</th>\n",
       "      <th>A</th>\n",
       "      <th>...</th>\n",
       "      <th>solventaccess_C2_001</th>\n",
       "      <th>solventaccess_C2_025</th>\n",
       "      <th>solventaccess_C2_050</th>\n",
       "      <th>solventaccess_C2_075</th>\n",
       "      <th>solventaccess_C2_100</th>\n",
       "      <th>solventaccess_C3_001</th>\n",
       "      <th>solventaccess_C3_025</th>\n",
       "      <th>solventaccess_C3_050</th>\n",
       "      <th>solventaccess_C3_075</th>\n",
       "      <th>solventaccess_C3_100</th>\n",
       "    </tr>\n",
       "  </thead>\n",
       "  <tbody>\n",
       "    <tr>\n",
       "      <th>3</th>\n",
       "      <td>dbAMP_00006</td>\n",
       "      <td>AAEFPDFYDSEEQMGPHQEAEDEKDRADQRVLTEEEKKELENLAAM...</td>\n",
       "      <td>YES</td>\n",
       "      <td>1</td>\n",
       "      <td>0</td>\n",
       "      <td>0</td>\n",
       "      <td>0</td>\n",
       "      <td>0</td>\n",
       "      <td>0</td>\n",
       "      <td>0.116667</td>\n",
       "      <td>...</td>\n",
       "      <td>5.000000</td>\n",
       "      <td>31.666667</td>\n",
       "      <td>48.333333</td>\n",
       "      <td>68.333333</td>\n",
       "      <td>100.000000</td>\n",
       "      <td>8.333333</td>\n",
       "      <td>13.333333</td>\n",
       "      <td>23.333333</td>\n",
       "      <td>28.333333</td>\n",
       "      <td>96.666667</td>\n",
       "    </tr>\n",
       "    <tr>\n",
       "      <th>4</th>\n",
       "      <td>dbAMP_00027</td>\n",
       "      <td>AAGGVKKPKKAAAAKKSPKKPKKPAAA</td>\n",
       "      <td>YES</td>\n",
       "      <td>1</td>\n",
       "      <td>0</td>\n",
       "      <td>0</td>\n",
       "      <td>0</td>\n",
       "      <td>0</td>\n",
       "      <td>0</td>\n",
       "      <td>0.333333</td>\n",
       "      <td>...</td>\n",
       "      <td>22.222222</td>\n",
       "      <td>25.925926</td>\n",
       "      <td>55.555556</td>\n",
       "      <td>70.370370</td>\n",
       "      <td>85.185185</td>\n",
       "      <td>29.629630</td>\n",
       "      <td>29.629630</td>\n",
       "      <td>62.962963</td>\n",
       "      <td>66.666667</td>\n",
       "      <td>88.888889</td>\n",
       "    </tr>\n",
       "    <tr>\n",
       "      <th>5</th>\n",
       "      <td>dbAMP_00029</td>\n",
       "      <td>AAGNPSETGGAVATYSTAVGSFLDGTVKVVATGGASRVPGNCGTAA...</td>\n",
       "      <td>NO</td>\n",
       "      <td>1</td>\n",
       "      <td>0</td>\n",
       "      <td>0</td>\n",
       "      <td>0</td>\n",
       "      <td>0</td>\n",
       "      <td>0</td>\n",
       "      <td>0.160920</td>\n",
       "      <td>...</td>\n",
       "      <td>4.597701</td>\n",
       "      <td>32.183908</td>\n",
       "      <td>59.770115</td>\n",
       "      <td>78.160920</td>\n",
       "      <td>100.000000</td>\n",
       "      <td>5.747126</td>\n",
       "      <td>17.241379</td>\n",
       "      <td>41.379310</td>\n",
       "      <td>67.816092</td>\n",
       "      <td>93.103448</td>\n",
       "    </tr>\n",
       "    <tr>\n",
       "      <th>7</th>\n",
       "      <td>dbAMP_00036</td>\n",
       "      <td>AAIYPFGIKIRCKAAFC</td>\n",
       "      <td>NO</td>\n",
       "      <td>1</td>\n",
       "      <td>0</td>\n",
       "      <td>1</td>\n",
       "      <td>0</td>\n",
       "      <td>0</td>\n",
       "      <td>0</td>\n",
       "      <td>0.235294</td>\n",
       "      <td>...</td>\n",
       "      <td>52.941176</td>\n",
       "      <td>52.941176</td>\n",
       "      <td>52.941176</td>\n",
       "      <td>64.705882</td>\n",
       "      <td>76.470588</td>\n",
       "      <td>23.529412</td>\n",
       "      <td>23.529412</td>\n",
       "      <td>23.529412</td>\n",
       "      <td>23.529412</td>\n",
       "      <td>29.411765</td>\n",
       "    </tr>\n",
       "    <tr>\n",
       "      <th>8</th>\n",
       "      <td>dbAMP_00037</td>\n",
       "      <td>AAKIILNPKFRCKAAFC</td>\n",
       "      <td>YES</td>\n",
       "      <td>1</td>\n",
       "      <td>1</td>\n",
       "      <td>1</td>\n",
       "      <td>0</td>\n",
       "      <td>1</td>\n",
       "      <td>0</td>\n",
       "      <td>0.235294</td>\n",
       "      <td>...</td>\n",
       "      <td>17.647059</td>\n",
       "      <td>17.647059</td>\n",
       "      <td>41.176471</td>\n",
       "      <td>52.941176</td>\n",
       "      <td>76.470588</td>\n",
       "      <td>47.058824</td>\n",
       "      <td>47.058824</td>\n",
       "      <td>47.058824</td>\n",
       "      <td>47.058824</td>\n",
       "      <td>47.058824</td>\n",
       "    </tr>\n",
       "    <tr>\n",
       "      <th>...</th>\n",
       "      <td>...</td>\n",
       "      <td>...</td>\n",
       "      <td>...</td>\n",
       "      <td>...</td>\n",
       "      <td>...</td>\n",
       "      <td>...</td>\n",
       "      <td>...</td>\n",
       "      <td>...</td>\n",
       "      <td>...</td>\n",
       "      <td>...</td>\n",
       "      <td>...</td>\n",
       "      <td>...</td>\n",
       "      <td>...</td>\n",
       "      <td>...</td>\n",
       "      <td>...</td>\n",
       "      <td>...</td>\n",
       "      <td>...</td>\n",
       "      <td>...</td>\n",
       "      <td>...</td>\n",
       "      <td>...</td>\n",
       "      <td>...</td>\n",
       "    </tr>\n",
       "    <tr>\n",
       "      <th>6155</th>\n",
       "      <td>dbAMP_28611</td>\n",
       "      <td>VKRALSALKPKNKRFIGGIISFIKKLFG</td>\n",
       "      <td>YES</td>\n",
       "      <td>1</td>\n",
       "      <td>0</td>\n",
       "      <td>0</td>\n",
       "      <td>0</td>\n",
       "      <td>0</td>\n",
       "      <td>0</td>\n",
       "      <td>0.071429</td>\n",
       "      <td>...</td>\n",
       "      <td>7.142857</td>\n",
       "      <td>10.714286</td>\n",
       "      <td>39.285714</td>\n",
       "      <td>46.428571</td>\n",
       "      <td>89.285714</td>\n",
       "      <td>21.428571</td>\n",
       "      <td>21.428571</td>\n",
       "      <td>21.428571</td>\n",
       "      <td>35.714286</td>\n",
       "      <td>75.000000</td>\n",
       "    </tr>\n",
       "    <tr>\n",
       "      <th>6156</th>\n",
       "      <td>dbAMP_28617</td>\n",
       "      <td>VNRKKILGKSIKVVK</td>\n",
       "      <td>YES</td>\n",
       "      <td>1</td>\n",
       "      <td>0</td>\n",
       "      <td>0</td>\n",
       "      <td>0</td>\n",
       "      <td>0</td>\n",
       "      <td>0</td>\n",
       "      <td>0.000000</td>\n",
       "      <td>...</td>\n",
       "      <td>13.333333</td>\n",
       "      <td>13.333333</td>\n",
       "      <td>26.666667</td>\n",
       "      <td>60.000000</td>\n",
       "      <td>100.000000</td>\n",
       "      <td>66.666667</td>\n",
       "      <td>66.666667</td>\n",
       "      <td>66.666667</td>\n",
       "      <td>66.666667</td>\n",
       "      <td>66.666667</td>\n",
       "    </tr>\n",
       "    <tr>\n",
       "      <th>6157</th>\n",
       "      <td>dbAMP_28628</td>\n",
       "      <td>VRRFPAAAPFLRR</td>\n",
       "      <td>YES</td>\n",
       "      <td>1</td>\n",
       "      <td>1</td>\n",
       "      <td>1</td>\n",
       "      <td>0</td>\n",
       "      <td>0</td>\n",
       "      <td>0</td>\n",
       "      <td>0.230769</td>\n",
       "      <td>...</td>\n",
       "      <td>15.384615</td>\n",
       "      <td>15.384615</td>\n",
       "      <td>23.076923</td>\n",
       "      <td>92.307692</td>\n",
       "      <td>100.000000</td>\n",
       "      <td>38.461538</td>\n",
       "      <td>38.461538</td>\n",
       "      <td>38.461538</td>\n",
       "      <td>38.461538</td>\n",
       "      <td>69.230769</td>\n",
       "    </tr>\n",
       "    <tr>\n",
       "      <th>6158</th>\n",
       "      <td>dbAMP_28659</td>\n",
       "      <td>YGAAKKAAKAAKKAAKAA</td>\n",
       "      <td>YES</td>\n",
       "      <td>1</td>\n",
       "      <td>1</td>\n",
       "      <td>0</td>\n",
       "      <td>0</td>\n",
       "      <td>0</td>\n",
       "      <td>0</td>\n",
       "      <td>0.555556</td>\n",
       "      <td>...</td>\n",
       "      <td>27.777778</td>\n",
       "      <td>27.777778</td>\n",
       "      <td>50.000000</td>\n",
       "      <td>66.666667</td>\n",
       "      <td>88.888889</td>\n",
       "      <td>5.555556</td>\n",
       "      <td>5.555556</td>\n",
       "      <td>5.555556</td>\n",
       "      <td>5.555556</td>\n",
       "      <td>5.555556</td>\n",
       "    </tr>\n",
       "    <tr>\n",
       "      <th>6159</th>\n",
       "      <td>dbAMP_28660</td>\n",
       "      <td>YGAKAKAAKAAKAKAAKA</td>\n",
       "      <td>YES</td>\n",
       "      <td>1</td>\n",
       "      <td>1</td>\n",
       "      <td>0</td>\n",
       "      <td>0</td>\n",
       "      <td>0</td>\n",
       "      <td>0</td>\n",
       "      <td>0.555556</td>\n",
       "      <td>...</td>\n",
       "      <td>22.222222</td>\n",
       "      <td>22.222222</td>\n",
       "      <td>50.000000</td>\n",
       "      <td>66.666667</td>\n",
       "      <td>94.444444</td>\n",
       "      <td>5.555556</td>\n",
       "      <td>5.555556</td>\n",
       "      <td>5.555556</td>\n",
       "      <td>5.555556</td>\n",
       "      <td>5.555556</td>\n",
       "    </tr>\n",
       "  </tbody>\n",
       "</table>\n",
       "<p>4685 rows × 254 columns</p>\n",
       "</div>"
      ],
      "text/plain": [
       "               ID                                           sequence  \\\n",
       "3     dbAMP_00006  AAEFPDFYDSEEQMGPHQEAEDEKDRADQRVLTEEEKKELENLAAM...   \n",
       "4     dbAMP_00027                        AAGGVKKPKKAAAAKKSPKKPKKPAAA   \n",
       "5     dbAMP_00029  AAGNPSETGGAVATYSTAVGSFLDGTVKVVATGGASRVPGNCGTAA...   \n",
       "7     dbAMP_00036                                  AAIYPFGIKIRCKAAFC   \n",
       "8     dbAMP_00037                                  AAKIILNPKFRCKAAFC   \n",
       "...           ...                                                ...   \n",
       "6155  dbAMP_28611                       VKRALSALKPKNKRFIGGIISFIKKLFG   \n",
       "6156  dbAMP_28617                                    VNRKKILGKSIKVVK   \n",
       "6157  dbAMP_28628                                      VRRFPAAAPFLRR   \n",
       "6158  dbAMP_28659                                 YGAAKKAAKAAKKAAKAA   \n",
       "6159  dbAMP_28660                                 YGAKAKAAKAAKAKAAKA   \n",
       "\n",
       "     is_validated  Antibacterial  MammalianCells  Antifungal  Antiviral  \\\n",
       "3             YES              1               0           0          0   \n",
       "4             YES              1               0           0          0   \n",
       "5              NO              1               0           0          0   \n",
       "7              NO              1               0           1          0   \n",
       "8             YES              1               1           1          0   \n",
       "...           ...            ...             ...         ...        ...   \n",
       "6155          YES              1               0           0          0   \n",
       "6156          YES              1               0           0          0   \n",
       "6157          YES              1               1           1          0   \n",
       "6158          YES              1               1           0          0   \n",
       "6159          YES              1               1           0          0   \n",
       "\n",
       "      Anticancer  Antiparasitic         A  ...  solventaccess_C2_001  \\\n",
       "3              0              0  0.116667  ...              5.000000   \n",
       "4              0              0  0.333333  ...             22.222222   \n",
       "5              0              0  0.160920  ...              4.597701   \n",
       "7              0              0  0.235294  ...             52.941176   \n",
       "8              1              0  0.235294  ...             17.647059   \n",
       "...          ...            ...       ...  ...                   ...   \n",
       "6155           0              0  0.071429  ...              7.142857   \n",
       "6156           0              0  0.000000  ...             13.333333   \n",
       "6157           0              0  0.230769  ...             15.384615   \n",
       "6158           0              0  0.555556  ...             27.777778   \n",
       "6159           0              0  0.555556  ...             22.222222   \n",
       "\n",
       "      solventaccess_C2_025  solventaccess_C2_050  solventaccess_C2_075  \\\n",
       "3                31.666667             48.333333             68.333333   \n",
       "4                25.925926             55.555556             70.370370   \n",
       "5                32.183908             59.770115             78.160920   \n",
       "7                52.941176             52.941176             64.705882   \n",
       "8                17.647059             41.176471             52.941176   \n",
       "...                    ...                   ...                   ...   \n",
       "6155             10.714286             39.285714             46.428571   \n",
       "6156             13.333333             26.666667             60.000000   \n",
       "6157             15.384615             23.076923             92.307692   \n",
       "6158             27.777778             50.000000             66.666667   \n",
       "6159             22.222222             50.000000             66.666667   \n",
       "\n",
       "      solventaccess_C2_100  solventaccess_C3_001  solventaccess_C3_025  \\\n",
       "3               100.000000              8.333333             13.333333   \n",
       "4                85.185185             29.629630             29.629630   \n",
       "5               100.000000              5.747126             17.241379   \n",
       "7                76.470588             23.529412             23.529412   \n",
       "8                76.470588             47.058824             47.058824   \n",
       "...                    ...                   ...                   ...   \n",
       "6155             89.285714             21.428571             21.428571   \n",
       "6156            100.000000             66.666667             66.666667   \n",
       "6157            100.000000             38.461538             38.461538   \n",
       "6158             88.888889              5.555556              5.555556   \n",
       "6159             94.444444              5.555556              5.555556   \n",
       "\n",
       "      solventaccess_C3_050  solventaccess_C3_075  solventaccess_C3_100  \n",
       "3                23.333333             28.333333             96.666667  \n",
       "4                62.962963             66.666667             88.888889  \n",
       "5                41.379310             67.816092             93.103448  \n",
       "7                23.529412             23.529412             29.411765  \n",
       "8                47.058824             47.058824             47.058824  \n",
       "...                    ...                   ...                   ...  \n",
       "6155             21.428571             35.714286             75.000000  \n",
       "6156             66.666667             66.666667             66.666667  \n",
       "6157             38.461538             38.461538             69.230769  \n",
       "6158              5.555556              5.555556              5.555556  \n",
       "6159              5.555556              5.555556              5.555556  \n",
       "\n",
       "[4685 rows x 254 columns]"
      ]
     },
     "execution_count": 15,
     "metadata": {},
     "output_type": "execute_result"
    }
   ],
   "source": [
    "df = pd.read_csv('/home/cnj/cs/test_methods/data/mll_func/multiAMP_train.csv')\n",
    "df[df['sequence'].str.len() > 100]\n",
    "# df[(df['Antibacterial'] == 1)]\n",
    "#    & (df['is_validated'] == 'YES')]\n"
   ]
  },
  {
   "cell_type": "code",
   "execution_count": null,
   "metadata": {},
   "outputs": [],
   "source": [
    "."
   ]
  },
  {
   "cell_type": "code",
   "execution_count": 20,
   "metadata": {},
   "outputs": [
    {
     "name": "stdout",
     "output_type": "stream",
     "text": [
      "Max Sequence Length: 207\n",
      "[  5   6   7   8   9  10  11  12  13  14  15  16  17  18  19  20  21  22\n",
      "  23  24  25  26  27  28  29  30  31  32  33  34  35  36  37  38  39  40\n",
      "  41  42  43  44  45  46  47  48  49  50  51  52  53  54  75  81  83  84\n",
      "  85  86  90 108 111 207]\n"
     ]
    }
   ],
   "source": [
    "from Bio import SeqIO\n",
    "import numpy as np\n",
    "\n",
    "def get_fasta_sequence_lengths(filename):\n",
    "    lengths = []\n",
    "    max_length = 0\n",
    "\n",
    "    for record in SeqIO.parse(filename, \"fasta\"):\n",
    "        sequence_length = len(record.seq)\n",
    "        lengths.append(sequence_length)\n",
    "        if sequence_length > max_length:\n",
    "            max_length = sequence_length\n",
    "\n",
    "    return lengths, max_length\n",
    "\n",
    "# 读取 FASTA 文件并获取序列长度\n",
    "filename = \"/home/cnj/cs/test_methods/data/cv_data/acp_test/acp_test_all.fasta\"\n",
    "sequence_lengths, max_sequence_length = get_fasta_sequence_lengths(filename)\n",
    "\n",
    "sequence_lengths = np.array(sequence_lengths)\n",
    "# 打印所有序列的长度和最长序列的长度\n",
    "# print(\"Sequence Lengths:\", sequence_lengths)\n",
    "print(\"Max Sequence Length:\", max_sequence_length)\n",
    "print(np.unique(sequence_lengths))"
   ]
  },
  {
   "cell_type": "code",
   "execution_count": 16,
   "metadata": {},
   "outputs": [
    {
     "data": {
      "text/plain": [
       "array([101, 114, 107, 121])"
      ]
     },
     "execution_count": 16,
     "metadata": {},
     "output_type": "execute_result"
    }
   ],
   "source": [
    "sequence_lengths[sequence_lengths>100]"
   ]
  },
  {
   "cell_type": "code",
   "execution_count": 27,
   "metadata": {},
   "outputs": [
    {
     "data": {
      "text/plain": [
       "1"
      ]
     },
     "execution_count": 27,
     "metadata": {},
     "output_type": "execute_result"
    }
   ],
   "source": [
    "np.count_nonzero(sequence_lengths == 255)"
   ]
  },
  {
   "cell_type": "code",
   "execution_count": null,
   "metadata": {},
   "outputs": [],
   "source": [
    "# 处理大于100的序列"
   ]
  },
  {
   "cell_type": "code",
   "execution_count": 1,
   "metadata": {},
   "outputs": [],
   "source": [
    "# 输入文件路径和名称\n",
    "input_file = '/home/cnj/cs/test_methods/data/cv_data/acp_train/acp_train_all.fasta'\n",
    "# 输出文件路径和名称\n",
    "output_file = '/home/cnj/cs/test_methods/data/cv_data/acp_train/acp_train_all_145.fasta'\n",
    "\n",
    "# 读取输入文件并处理序列\n",
    "sequences = []\n",
    "with open(input_file, 'r') as input_handle:\n",
    "    header = ''\n",
    "    sequence = ''\n",
    "    for line in input_handle:\n",
    "        line = line.strip()\n",
    "        if line.startswith('>'):  # 处理标题行\n",
    "            if sequence and len(sequence) <= 100:  # 仅保留长度小于等于 100 的序列\n",
    "                sequences.append((header, sequence))\n",
    "            header = line\n",
    "            sequence = ''\n",
    "        else:  # 处理序列行\n",
    "            sequence += line\n",
    "\n",
    "    # 处理最后一个序列\n",
    "    if sequence and len(sequence) <= 100:\n",
    "        sequences.append((header, sequence))\n",
    "\n",
    "# 将筛选后的序列保存到输出文件\n",
    "with open(output_file, 'w') as output_handle:\n",
    "    for header, sequence in sequences:\n",
    "        output_handle.write(f'{header}\\n{sequence}\\n')"
   ]
  },
  {
   "cell_type": "code",
   "execution_count": 3,
   "metadata": {},
   "outputs": [
    {
     "data": {
      "text/plain": [
       "12847"
      ]
     },
     "execution_count": 3,
     "metadata": {},
     "output_type": "execute_result"
    }
   ],
   "source": [
    "len(sequences)"
   ]
  },
  {
   "cell_type": "code",
   "execution_count": null,
   "metadata": {},
   "outputs": [],
   "source": []
  }
 ],
 "metadata": {
  "kernelspec": {
   "display_name": "trans",
   "language": "python",
   "name": "python3"
  },
  "language_info": {
   "codemirror_mode": {
    "name": "ipython",
    "version": 3
   },
   "file_extension": ".py",
   "mimetype": "text/x-python",
   "name": "python",
   "nbconvert_exporter": "python",
   "pygments_lexer": "ipython3",
   "version": "3.8.18"
  }
 },
 "nbformat": 4,
 "nbformat_minor": 2
}
